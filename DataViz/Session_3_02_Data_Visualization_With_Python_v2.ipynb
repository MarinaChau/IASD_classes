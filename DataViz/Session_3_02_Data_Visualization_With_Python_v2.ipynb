{
  "cells": [
    {
      "cell_type": "markdown",
      "metadata": {
        "id": "view-in-github",
        "colab_type": "text"
      },
      "source": [
        "<a href=\"https://colab.research.google.com/github/MarinaChau/IASD_classes/blob/master/DataViz/Session_3_02_Data_Visualization_With_Python_v2.ipynb\" target=\"_parent\"><img src=\"https://colab.research.google.com/assets/colab-badge.svg\" alt=\"Open In Colab\"/></a>"
      ]
    },
    {
      "cell_type": "markdown",
      "metadata": {
        "id": "DGuHvnsSONmw"
      },
      "source": [
        "#Introduction"
      ]
    },
    {
      "cell_type": "markdown",
      "metadata": {
        "id": "9E2BjmY3xqcP"
      },
      "source": [
        "## Context"
      ]
    },
    {
      "cell_type": "markdown",
      "metadata": {
        "id": "EEZFOdXnOkDf"
      },
      "source": [
        "**Prerequisite:** We assume in this workshop that basic notions of Python are already mastered (data types and variables, data operations, dataframes, conditional statements, etc.). \n",
        "\n",
        "**Content:** Understand data visualization fundamentals and learn how to leverage it via Python's main libraries (MatplotLib, Seaborn, Bokeh, etc.) \n",
        "\n",
        "**Length:** 3h\n"
      ]
    },
    {
      "cell_type": "markdown",
      "metadata": {
        "id": "XW6E9nJpxVyu"
      },
      "source": [
        "## Colab Hosted Jupyter Notebook 101"
      ]
    },
    {
      "cell_type": "markdown",
      "metadata": {
        "id": "jEspw0UHxbPJ"
      },
      "source": [
        "Before starting the workshop, take a few minutes to play with a new Notebook. Mainly, \n",
        "\n",
        "\n",
        "*  Hosted and shared. \n",
        "*  Librairies & Installation.\n",
        "*  Environment (CPU, GPU, TPU).\n",
        "\n",
        "Now let's look at \n",
        "*  Basic operations in Python.\n",
        "*  Markup and Structure of an Notebook.\n",
        "\n",
        "\n",
        "\n",
        "\n",
        "\n",
        "\n",
        "\n",
        "\n"
      ]
    },
    {
      "cell_type": "markdown",
      "metadata": {
        "id": "5Vwr-FAFPb8x"
      },
      "source": [
        "#Basics of Data Visualization with MatplotLib"
      ]
    },
    {
      "cell_type": "markdown",
      "metadata": {
        "id": "30L93SWWPdmW"
      },
      "source": [
        "##Summary – Why data visualization?"
      ]
    },
    {
      "cell_type": "markdown",
      "metadata": {
        "id": "_iwTy_UePiSm"
      },
      "source": [
        "**It is said that an image is worth a thousand words.** Actually, an image can say it all if it’s properly shaped and well presented. As such, it’s a powerful tool to tell a story, explain a phenomenon or raise a case and defend a plan. \n",
        "\n",
        "**Here’s a great example:** you want to hire more people and want your boss to understand why quickly?\n",
        "\n",
        "(**source:** \"Storytelling with Data\" by Cole Nussbaumer Knafli)\n"
      ]
    },
    {
      "cell_type": "markdown",
      "metadata": {
        "id": "5g1WGmqnWQPD"
      },
      "source": [
        "<img src=\"https://drive.google.com/uc?export=view&id=15z0k7blZYXfL1ud14im6aEoyhuWtvWzN\" style=\"width: 500px; max-width: 100%; height: auto\" title=\"DataViz Illustration.\" />"
      ]
    },
    {
      "cell_type": "markdown",
      "metadata": {
        "id": "BRYEQthHYknr"
      },
      "source": [
        "**Note:** It doesn’t always need to be a complex display; But to get there, you need to master a few visualization concepts & tools. The purpose of this workshop is to get you there by exploring a few topics. \n",
        "\n",
        "**But first let’s start by the basics, MatPlotLib.**"
      ]
    },
    {
      "cell_type": "markdown",
      "metadata": {
        "id": "kPD4mp4aZfnP"
      },
      "source": [
        "## Introduction to MatplotLib"
      ]
    },
    {
      "cell_type": "markdown",
      "metadata": {
        "id": "GabfEZmqZlW6"
      },
      "source": [
        "[MatplotLib](https://matplotlib.org/) is a free open source library that enable fast and powerful 2D data visualization. It’s is often the way to go to start exploring data in Python. \n",
        "Other libraries build on MatplotLib to offer off-theshelve advanced visualisation tools (e.g., [seaborn](https://seaborn.github.io/), [holoviews](http://holoviews.org/), [ggplot](http://ggplot.yhathq.com/), [basemap](http://matplotlib.org/basemap) and [cartopy](http://scitools.org.uk/cartopy/docs/latest)). \n"
      ]
    },
    {
      "cell_type": "markdown",
      "metadata": {
        "id": "jlP-cJ8BaMhC"
      },
      "source": [
        "###PyPlot"
      ]
    },
    {
      "cell_type": "markdown",
      "metadata": {
        "id": "T9_R5vb2aP7V"
      },
      "source": [
        "**Pyplot is MatplotLib’s main visualization module.** It was designed to mimic Matlab while being used in Python for free. "
      ]
    },
    {
      "cell_type": "markdown",
      "metadata": {
        "id": "Co0gohj-aS57"
      },
      "source": [
        "**Note:** MatPlotLib has also a nother module, pylab ; “pylab combines pyplot with numpy into a single namespace. This is convenient for interactive work, but for programming it is recommended that the namespaces be kept separate” (source)"
      ]
    },
    {
      "cell_type": "markdown",
      "metadata": {
        "id": "GYiZ5fVjaWxS"
      },
      "source": [
        "**In this workshop, we’ll focus on Pyplot as it is the visualization module.**"
      ]
    },
    {
      "cell_type": "markdown",
      "metadata": {
        "id": "wre2-sWseIUk"
      },
      "source": [
        "###First Steps with PyPlot "
      ]
    },
    {
      "cell_type": "markdown",
      "metadata": {
        "id": "SovPlvMweOxj"
      },
      "source": [
        "**GOAL:** Before diving into MatPlotLib's technicalities, explore a simple example of data visualization: generate data, prepare data to be displayed, and annotate the plot. \n",
        "\n",
        "**Note: ** this first example is available on MatplotLib's website. We modified its code a bit in order to focus only on MatplotLib & Pandas (instead of Numpy). \n",
        "\n",
        "**We assume that you know how DataFrames work.** "
      ]
    },
    {
      "cell_type": "code",
      "execution_count": 1,
      "metadata": {
        "id": "Z7zEQYtHkeBD"
      },
      "outputs": [],
      "source": [
        "#Import Libraries\n",
        "import matplotlib.pyplot as plt\n",
        "import pandas as pd"
      ]
    },
    {
      "cell_type": "markdown",
      "metadata": {
        "id": "TTGTYgseo_sZ"
      },
      "source": [
        "Usually you would import your data from a csv or a database. But for the sake of the exercise, we'll create a dataframe from scratch. Click on the execute button (left of \"Data Preparation\").\n",
        "\n",
        "If you want to explore the code behind it, double click on it. "
      ]
    },
    {
      "cell_type": "code",
      "execution_count": 2,
      "metadata": {
        "id": "PCymbTgEoHgb"
      },
      "outputs": [],
      "source": [
        "#@title Data Preparation (click on the execute button)\n",
        "#Data Preparation - usually you have already a dataframe ready to be explored. But for the sake of this workshop we'll start by setting up one from scratch. \n",
        "df = pd.DataFrame({\n",
        "        'menMeans':[20, 35, 30, 35, 27],\n",
        "        'womenMeans':[25, 32, 34, 20, 25],\n",
        "        'menStd':[2, 3, 4, 1, 2],\n",
        "        'womenStd':[3, 5, 2, 3, 3]})"
      ]
    },
    {
      "cell_type": "code",
      "execution_count": 3,
      "metadata": {
        "colab": {
          "base_uri": "https://localhost:8080/",
          "height": 206
        },
        "id": "Gv3I73INohkA",
        "outputId": "f2e6b400-1cfd-422a-dba2-9469a8c7ba56"
      },
      "outputs": [
        {
          "output_type": "execute_result",
          "data": {
            "text/plain": [
              "   menMeans  womenMeans  menStd  womenStd\n",
              "0        20          25       2         3\n",
              "1        35          32       3         5\n",
              "2        30          34       4         2\n",
              "3        35          20       1         3\n",
              "4        27          25       2         3"
            ],
            "text/html": [
              "\n",
              "  <div id=\"df-799b0fa5-6316-414a-9f67-3f2bbfa22ee1\">\n",
              "    <div class=\"colab-df-container\">\n",
              "      <div>\n",
              "<style scoped>\n",
              "    .dataframe tbody tr th:only-of-type {\n",
              "        vertical-align: middle;\n",
              "    }\n",
              "\n",
              "    .dataframe tbody tr th {\n",
              "        vertical-align: top;\n",
              "    }\n",
              "\n",
              "    .dataframe thead th {\n",
              "        text-align: right;\n",
              "    }\n",
              "</style>\n",
              "<table border=\"1\" class=\"dataframe\">\n",
              "  <thead>\n",
              "    <tr style=\"text-align: right;\">\n",
              "      <th></th>\n",
              "      <th>menMeans</th>\n",
              "      <th>womenMeans</th>\n",
              "      <th>menStd</th>\n",
              "      <th>womenStd</th>\n",
              "    </tr>\n",
              "  </thead>\n",
              "  <tbody>\n",
              "    <tr>\n",
              "      <th>0</th>\n",
              "      <td>20</td>\n",
              "      <td>25</td>\n",
              "      <td>2</td>\n",
              "      <td>3</td>\n",
              "    </tr>\n",
              "    <tr>\n",
              "      <th>1</th>\n",
              "      <td>35</td>\n",
              "      <td>32</td>\n",
              "      <td>3</td>\n",
              "      <td>5</td>\n",
              "    </tr>\n",
              "    <tr>\n",
              "      <th>2</th>\n",
              "      <td>30</td>\n",
              "      <td>34</td>\n",
              "      <td>4</td>\n",
              "      <td>2</td>\n",
              "    </tr>\n",
              "    <tr>\n",
              "      <th>3</th>\n",
              "      <td>35</td>\n",
              "      <td>20</td>\n",
              "      <td>1</td>\n",
              "      <td>3</td>\n",
              "    </tr>\n",
              "    <tr>\n",
              "      <th>4</th>\n",
              "      <td>27</td>\n",
              "      <td>25</td>\n",
              "      <td>2</td>\n",
              "      <td>3</td>\n",
              "    </tr>\n",
              "  </tbody>\n",
              "</table>\n",
              "</div>\n",
              "      <button class=\"colab-df-convert\" onclick=\"convertToInteractive('df-799b0fa5-6316-414a-9f67-3f2bbfa22ee1')\"\n",
              "              title=\"Convert this dataframe to an interactive table.\"\n",
              "              style=\"display:none;\">\n",
              "        \n",
              "  <svg xmlns=\"http://www.w3.org/2000/svg\" height=\"24px\"viewBox=\"0 0 24 24\"\n",
              "       width=\"24px\">\n",
              "    <path d=\"M0 0h24v24H0V0z\" fill=\"none\"/>\n",
              "    <path d=\"M18.56 5.44l.94 2.06.94-2.06 2.06-.94-2.06-.94-.94-2.06-.94 2.06-2.06.94zm-11 1L8.5 8.5l.94-2.06 2.06-.94-2.06-.94L8.5 2.5l-.94 2.06-2.06.94zm10 10l.94 2.06.94-2.06 2.06-.94-2.06-.94-.94-2.06-.94 2.06-2.06.94z\"/><path d=\"M17.41 7.96l-1.37-1.37c-.4-.4-.92-.59-1.43-.59-.52 0-1.04.2-1.43.59L10.3 9.45l-7.72 7.72c-.78.78-.78 2.05 0 2.83L4 21.41c.39.39.9.59 1.41.59.51 0 1.02-.2 1.41-.59l7.78-7.78 2.81-2.81c.8-.78.8-2.07 0-2.86zM5.41 20L4 18.59l7.72-7.72 1.47 1.35L5.41 20z\"/>\n",
              "  </svg>\n",
              "      </button>\n",
              "      \n",
              "  <style>\n",
              "    .colab-df-container {\n",
              "      display:flex;\n",
              "      flex-wrap:wrap;\n",
              "      gap: 12px;\n",
              "    }\n",
              "\n",
              "    .colab-df-convert {\n",
              "      background-color: #E8F0FE;\n",
              "      border: none;\n",
              "      border-radius: 50%;\n",
              "      cursor: pointer;\n",
              "      display: none;\n",
              "      fill: #1967D2;\n",
              "      height: 32px;\n",
              "      padding: 0 0 0 0;\n",
              "      width: 32px;\n",
              "    }\n",
              "\n",
              "    .colab-df-convert:hover {\n",
              "      background-color: #E2EBFA;\n",
              "      box-shadow: 0px 1px 2px rgba(60, 64, 67, 0.3), 0px 1px 3px 1px rgba(60, 64, 67, 0.15);\n",
              "      fill: #174EA6;\n",
              "    }\n",
              "\n",
              "    [theme=dark] .colab-df-convert {\n",
              "      background-color: #3B4455;\n",
              "      fill: #D2E3FC;\n",
              "    }\n",
              "\n",
              "    [theme=dark] .colab-df-convert:hover {\n",
              "      background-color: #434B5C;\n",
              "      box-shadow: 0px 1px 3px 1px rgba(0, 0, 0, 0.15);\n",
              "      filter: drop-shadow(0px 1px 2px rgba(0, 0, 0, 0.3));\n",
              "      fill: #FFFFFF;\n",
              "    }\n",
              "  </style>\n",
              "\n",
              "      <script>\n",
              "        const buttonEl =\n",
              "          document.querySelector('#df-799b0fa5-6316-414a-9f67-3f2bbfa22ee1 button.colab-df-convert');\n",
              "        buttonEl.style.display =\n",
              "          google.colab.kernel.accessAllowed ? 'block' : 'none';\n",
              "\n",
              "        async function convertToInteractive(key) {\n",
              "          const element = document.querySelector('#df-799b0fa5-6316-414a-9f67-3f2bbfa22ee1');\n",
              "          const dataTable =\n",
              "            await google.colab.kernel.invokeFunction('convertToInteractive',\n",
              "                                                     [key], {});\n",
              "          if (!dataTable) return;\n",
              "\n",
              "          const docLinkHtml = 'Like what you see? Visit the ' +\n",
              "            '<a target=\"_blank\" href=https://colab.research.google.com/notebooks/data_table.ipynb>data table notebook</a>'\n",
              "            + ' to learn more about interactive tables.';\n",
              "          element.innerHTML = '';\n",
              "          dataTable['output_type'] = 'display_data';\n",
              "          await google.colab.output.renderOutput(dataTable, element);\n",
              "          const docLink = document.createElement('div');\n",
              "          docLink.innerHTML = docLinkHtml;\n",
              "          element.appendChild(docLink);\n",
              "        }\n",
              "      </script>\n",
              "    </div>\n",
              "  </div>\n",
              "  "
            ]
          },
          "metadata": {},
          "execution_count": 3
        }
      ],
      "source": [
        "#Explore the DataFrame\n",
        "df.head()"
      ]
    },
    {
      "cell_type": "code",
      "execution_count": 4,
      "metadata": {
        "colab": {
          "base_uri": "https://localhost:8080/",
          "height": 281
        },
        "id": "NYYTMytCopPa",
        "outputId": "8fea2d95-a421-46c5-ce15-ff821f2bc5f3"
      },
      "outputs": [
        {
          "output_type": "display_data",
          "data": {
            "text/plain": [
              "<Figure size 432x288 with 1 Axes>"
            ],
            "image/png": "[encoded data removed]"
          },
          "metadata": {
            "needs_background": "light"
          }
        }
      ],
      "source": [
        "#We focus on plotting a bar chart\n",
        "\n",
        "l_col = len(df.values) # the x locations for the groups\n",
        "ind = list(range(l_col))\n",
        "width = 0.5       # 1 means that all bars are connected. Less than 1 creates a space between bars. \n",
        "\n",
        "# Plotting functionality based on the available data in the DataFrame.\n",
        "p1 = plt.bar(ind, df['menMeans'], width, yerr=df['menStd'])\n",
        "p2 = plt.bar(ind, df['womenMeans'], width,\n",
        "             bottom=df['menMeans'], yerr=df['womenStd'])\n",
        "\n",
        "# Axes definition\n",
        "plt.ylabel('Scores')\n",
        "plt.title('Scores by group and gender')\n",
        "plt.xticks(ind, ('G1', 'G2', 'G3', 'G4', 'G5'))\n",
        "plt.yticks(list(range(0, 81, 10)))\n",
        "plt.legend((p1[0], p2[0]), ('Men', 'Women'))\n",
        "\n",
        "plt.show()"
      ]
    },
    {
      "cell_type": "markdown",
      "metadata": {
        "id": "uBu3XSGxd0u3"
      },
      "source": [
        "#Matplotlib's Anatomy"
      ]
    },
    {
      "cell_type": "markdown",
      "metadata": {
        "id": "uLkTAHrVtqod"
      },
      "source": [
        "Let's dive in and explore how a PyPlot display is decomposed. You'll have to manipulate its components in order to get the expected result.\n"
      ]
    },
    {
      "cell_type": "markdown",
      "metadata": {
        "id": "MCQDX9bFvZRQ"
      },
      "source": [
        "## PyPlot Display Objects"
      ]
    },
    {
      "cell_type": "markdown",
      "metadata": {
        "id": "D7PR3W7Ivibv"
      },
      "source": [
        "**MatPlotLib's key aspects:** \n",
        "\n",
        "\n",
        "**Figure:** Every display in Matplotlib is contained in a single box or object, refered to as **Figure**. It encapsulates everything. \n",
        "\n",
        "**Axes:** Within a Figure, you can have a single or several \"Axes\". each \"Axes\" object represents a two dimensional plot, with:\n",
        "*   **Title:** Name of the Axes ; it usually summarizes what we expect to see in the plot.\n",
        "*   **xAxis & yAxis:** Orthogonal axes that support the plotted data in 2D.\n",
        "*   **xLabel & yLabel:** Name of xAxis and yAxis ; usually it help reading the plot and understanding the displayed data.\n",
        "*   **xTicks & yTicks:** there are two types, minor and major ticks. They decompose xAxis and yAxis into smaller parts (easier to read)\n",
        "*   **\"lines\":** This is the data to display\n",
        "\n",
        "\n",
        "\n",
        "\n",
        "\n"
      ]
    },
    {
      "cell_type": "markdown",
      "metadata": {
        "id": "CX_XQUF-d45s"
      },
      "source": [
        "![MatplotLib's Anatomy](https://matplotlib.org/_images/sphx_glr_anatomy_001.png)"
      ]
    },
    {
      "cell_type": "markdown",
      "metadata": {
        "id": "TSQ0omyR8hmX"
      },
      "source": [
        "## Can you draw it yourself?"
      ]
    },
    {
      "cell_type": "markdown",
      "metadata": {
        "id": "eDLEYzXaOtVL"
      },
      "source": [
        "### Build the basic frame, axes and lines."
      ]
    },
    {
      "cell_type": "code",
      "execution_count": 5,
      "metadata": {
        "id": "XD1scGdtPk8K",
        "outputId": "12928bd8-4ecc-4bab-ae76-5594f0722eea",
        "colab": {
          "base_uri": "https://localhost:8080/",
          "height": 133
        }
      },
      "outputs": [
        {
          "output_type": "error",
          "ename": "SyntaxError",
          "evalue": "ignored",
          "traceback": [
            "\u001b[0;36m  File \u001b[0;32m\"<ipython-input-5-2a62db1387ed>\"\u001b[0;36m, line \u001b[0;32m10\u001b[0m\n\u001b[0;31m    fig =\u001b[0m\n\u001b[0m          ^\u001b[0m\n\u001b[0;31mSyntaxError\u001b[0m\u001b[0;31m:\u001b[0m invalid syntax\n"
          ]
        }
      ],
      "source": [
        "import numpy as np\n",
        "import matplotlib.pyplot as plt\n",
        "data = np.linspace(0.5, 3.5, 100)\n",
        "\n",
        "#Transform Data as f1=3+cos(x) and f2=1+cos(1+3x/4)/2\n",
        "Y1 = 3+np.cos(data)\n",
        "Y2 = 1+np.cos(1+data/0.75)/2\n",
        "\n",
        "#Create a figure object\n",
        "fig = \n",
        "\n",
        "#Add Axes via the subplot function.\n",
        "ax = \n",
        "#ax = fig.subplots(1,1)\n",
        "\n",
        "#Define xaxis and yaxis limites \n",
        "\n",
        "#Plot lines!! Include Label information as well.\n",
        "\n",
        "plt.show()\n"
      ]
    },
    {
      "cell_type": "markdown",
      "metadata": {
        "id": "TNP8R7xYOvLs"
      },
      "source": [
        "### Add Title, Labels & Legend"
      ]
    },
    {
      "cell_type": "code",
      "execution_count": null,
      "metadata": {
        "id": "WOiXLETuKcPl"
      },
      "outputs": [],
      "source": [
        "# title, axes labels, legend\n",
        "\n",
        "# add a grid\n",
        "\n",
        "fig"
      ]
    },
    {
      "cell_type": "code",
      "execution_count": null,
      "metadata": {
        "id": "_WKdv8Ignd8q"
      },
      "outputs": [],
      "source": [
        "#For the rest of the exercice, we'll include random dots on the plot. Then you'll have to add Tickers and the rest of the missing information on the figure.\n",
        "np.random.seed(19680801)\n",
        "Y3 = np.random.uniform(Y1, Y2, len(data))"
      ]
    },
    {
      "cell_type": "code",
      "execution_count": null,
      "metadata": {
        "id": "LMMo31lk865v"
      },
      "outputs": [],
      "source": [
        "#Add Y3 to the graph, you can manipulate the color and shape of the dots using the parameters marker, markerfacecolor & markeredgecolor.\n",
        "\n",
        "fig"
      ]
    },
    {
      "cell_type": "markdown",
      "metadata": {
        "id": "rPNN8ESycYD_"
      },
      "source": [
        "### Ticker functions"
      ]
    },
    {
      "cell_type": "markdown",
      "metadata": {
        "id": "F3IISJrCcfIj"
      },
      "source": [
        "Tickers are set automatically based on the data range except ; but you also define them yourself when needed. In this subsection we'll explore how we can manipulate them via [matplotlib.ticker](https://matplotlib.org/3.1.1/api/ticker_api.html) library and its subfunctions AutoMinorLocator, MultipleLocator & FuncFormatter. \"This module contains classes to support completely configurable tick locating and formatting.\"\n",
        "*   **MultipleLocator:** Defines the scale of the major ticks, e.g., \"ax.xaxis.set_major_locator(MultipleLocator(x))\" where x could be 0.5 for instance, would give you a step size of 0.5 on the xaxis.\n",
        "*   **AutoMinorLocator:** Defines the number of intervals between two major ticks, e.g., \"ax.xaxis.set_minor_locator(AutoMinorLocator(2))\" would divide the interval between two major ticks in 2 (so a single minor tick between them is added). \n",
        "*   **ScalarFormatter:** \"Default formatter for scalars: autopick the format string.\", e.g., just instanciated as follows \"ax.xaxis.set_minor_formatter(ScalarFormatter())\", and it will manage the rest. \n",
        "\n"
      ]
    },
    {
      "cell_type": "code",
      "execution_count": null,
      "metadata": {
        "id": "lR-NJoLzdNdw"
      },
      "outputs": [],
      "source": [
        "from matplotlib.ticker import AutoMinorLocator, MultipleLocator, ScalarFormatter"
      ]
    },
    {
      "cell_type": "code",
      "execution_count": null,
      "metadata": {
        "id": "fckyALbKdYtm"
      },
      "outputs": [],
      "source": [
        "#Setup Major ticks on both xAxis and yAxis with a step size of 1 and divide intervals between major ticks in 4 sub intervals\n",
        "ax.xaxis...\n",
        "ax.yaxis...\n",
        "#Bonus shape the ticker width & label\n",
        "#Note: you can define a tick's width and length via the function tick_params, e.g., ax.tick_params(which='major', param=1.0) param: length, width, labelsize, labelcolor. which coulb be \"minor\" as well.\n",
        "\n",
        "fig"
      ]
    },
    {
      "cell_type": "markdown",
      "metadata": {
        "id": "MjqaMhL0jkAw"
      },
      "source": [
        "Now, last but not least, setting up minor tick's values. "
      ]
    },
    {
      "cell_type": "code",
      "execution_count": null,
      "metadata": {
        "id": "mwaLaT6Te38G"
      },
      "outputs": [],
      "source": [
        "# setup minor ticks' values automatically. \n",
        "\n",
        "fig"
      ]
    },
    {
      "cell_type": "code",
      "execution_count": null,
      "metadata": {
        "id": "5r8TXzRw0ZXU"
      },
      "outputs": [],
      "source": [
        "# Learn to declutter: remove top and right spines"
      ]
    },
    {
      "cell_type": "markdown",
      "metadata": {
        "id": "r6OeiA2blgIN"
      },
      "source": [
        "### Bonus: finalizing the figure with text labels and annotating circles"
      ]
    },
    {
      "cell_type": "code",
      "execution_count": null,
      "metadata": {
        "id": "q5DnDPEk8gM2"
      },
      "outputs": [],
      "source": [
        "##For the purpose of the exercise, we define these two functions, Circle & Text that you can use.\n",
        "#Circle: draws a cercle with a fixed radius. x & y represent it's position relatively to xAxis and yAxis.\n",
        "def circle(x, y, radius=0.15):\n",
        "    from matplotlib.patches import Circle\n",
        "    from matplotlib.patheffects import withStroke\n",
        "    circle = Circle((x, y), radius, clip_on=False, zorder=10, linewidth=1,\n",
        "                    edgecolor='black', facecolor=(0, 0, 0, .0125),\n",
        "                    path_effects=[withStroke(linewidth=5, foreground='w')])\n",
        "    ax.add_artist(circle)\n",
        "\n",
        "#Text: displays a text field. x & y represent it's position relatively to xAxis and yAxis.\n",
        "def text(x, y, text):\n",
        "    ax.text(x, y, text, backgroundcolor=\"white\",\n",
        "            ha='center', va='top', weight='bold', color='blue')\n"
      ]
    },
    {
      "cell_type": "code",
      "execution_count": null,
      "metadata": {
        "id": "cvmGTIWa6WKB"
      },
      "outputs": [],
      "source": [
        "#@title Generate circles & Text Labels for Ticks\n",
        "# Minor tick label\n",
        "circle(0.50, -0.10)\n",
        "text(0.50, -0.32, \"Minor tick label\")\n",
        "\n",
        "# Major tick\n",
        "\n",
        "# Minor tick\n",
        "\n",
        "# Major tick label\n",
        "\n",
        "# X Label\n",
        "\n",
        "# Y Label\n",
        "\n",
        "# Title\n",
        "\n",
        "# Blue plot\n",
        "\n",
        "# Red plot\n",
        "\n",
        "# Scatter plot\n",
        "\n",
        "# Grid\n",
        "\n",
        "# Legend\n",
        "\n",
        "# Axes\n",
        "\n",
        "# Figure\n",
        "\n",
        "fig"
      ]
    },
    {
      "cell_type": "markdown",
      "metadata": {
        "id": "4XnzasKt1wsB"
      },
      "source": [
        "## Matplotlib's charts & when to use them?"
      ]
    },
    {
      "cell_type": "markdown",
      "metadata": {
        "id": "7VEBdZJJ12E0"
      },
      "source": [
        "In this section, we'll guide you to explore MatPlotLib's available charts. For documentation, you can rely on [Matplotlib's website](https://matplotlib.org/gallery/index.html).\n",
        "\n",
        "\n",
        "*   Histogram\n",
        "*   Pie Chart\n",
        "*   Box Plot\n",
        "\n",
        "For the sake of the exercice, we'll rely on this dataset: Paris's real estate data. It's publicly available data that you find [here](https://www.data.gouv.fr/fr/datasets/5cc1b94a634f4165e96436c1/). We took the full dataset, cleaned it a bit and reduced it to sold appartements in Paris. \n",
        "\n",
        "The original file is available [here](https://drive.google.com/open?id=1BJdsMw8i8Ad0gT0LyrhAZYEL0JhN8c0m) (about 4MB). You can download it then load it on colab (under the folder \"content\"), or you can just use [this raw git url](https://raw.githubusercontent.com/annemariet/tutorials/master/data/RealEstate_Paris_cleaned_17_12_2019.csv) to load it directly with `pandas`.\n",
        "\n"
      ]
    },
    {
      "cell_type": "markdown",
      "metadata": {
        "id": "uv_I1n2xC_74"
      },
      "source": [
        "### Load Data"
      ]
    },
    {
      "cell_type": "code",
      "execution_count": null,
      "metadata": {
        "id": "oeGXCPmsDFe5"
      },
      "outputs": [],
      "source": [
        "#To make this section self sufficient, we'll re-import needed libraries. \n",
        "import pandas as pd\n",
        "import matplotlib.pyplot as plt"
      ]
    },
    {
      "cell_type": "code",
      "execution_count": null,
      "metadata": {
        "id": "SDq7ZWTNC9rK"
      },
      "outputs": [],
      "source": [
        "#Load data and display columns and shape\n",
        "path_data = \"https://raw.githubusercontent.com/annemariet/tutorials/master/data/RealEstate_Paris_cleaned_17_12_2019.csv\" \n",
        "df_housing = pd.read_csv(path_data, low_memory=False, index_col=0)\n",
        "print('Data Columns: {}'.format(df_housing.columns))\n",
        "print('Data shape: {}'.format(df_housing.shape))"
      ]
    },
    {
      "cell_type": "code",
      "execution_count": null,
      "metadata": {
        "id": "bybAAGykDpsB"
      },
      "outputs": [],
      "source": [
        "# Check the number of zipcodes (\"code_postal\" or \"code_commune\") and the number of houses per district"
      ]
    },
    {
      "cell_type": "markdown",
      "metadata": {
        "id": "RQkBhCAv22kd"
      },
      "source": [
        "### Histogram"
      ]
    },
    {
      "cell_type": "markdown",
      "metadata": {
        "id": "pXgCc_DG38OA"
      },
      "source": [
        "Histograms aggregate data in ordered bins:\n",
        "*   xAxis representing the ordered values of bins\n",
        "*   yAxis: reprsenting the aggreagted data as a count of occurences (or frequency).\n",
        "\n",
        "\n",
        "Histograms are used for quantitative variable (not categorical ones, otherwise we would use bar charts instead). \n",
        "\n",
        "It is very useful When looking a single quantitative variable to explore how values are distributed. It often gives a strong indication on it's variations and predictability. \n",
        "\n",
        "When a variable is projected on subdimensions e.g., variable: salary, projection on male/female. You can plot and compare both histogram, which gives an indication on how this variable (salary) evolves within the different categories of the population(male/female).\n",
        "\n",
        "In the following exercise we will look at the distribution of housing prices, and compare it accross Paris area districts."
      ]
    },
    {
      "cell_type": "markdown",
      "metadata": {
        "id": "USjTGndD1dx4"
      },
      "source": [
        "There are several functions available : use whichever you find more convenient.\n",
        "- `plt.hist`\n",
        "- `ax.hist`\n",
        "- `pd.DataFrame.plot` with `kind=\"hist\"`\n",
        "- ..."
      ]
    },
    {
      "cell_type": "code",
      "execution_count": null,
      "metadata": {
        "id": "M3HWT_AG_ci3"
      },
      "outputs": [],
      "source": [
        "#Exercice1: Use hist() function to display a histogram in Pyplot.\n",
        "#@todo: display a histogram representing prices in Paris's 13th arrondissement. \n",
        "#Don't forget to label the axes and to provide a title!\n"
      ]
    },
    {
      "cell_type": "code",
      "execution_count": null,
      "metadata": {
        "id": "zcckPny8EW1k"
      },
      "outputs": [],
      "source": [
        "#Exercice2: display several histograms in the same figure\n",
        "#@todo: compare 18th and 16th arrondissements. \n",
        "#Don't forget to label the axes and to provide a title and a legend!\n",
        "#Bonus: put a logarithmic scale on the y-axis\n"
      ]
    },
    {
      "cell_type": "markdown",
      "metadata": {
        "id": "yfHbDXLQ3s-B"
      },
      "source": [
        "### PieChart"
      ]
    },
    {
      "cell_type": "markdown",
      "metadata": {
        "id": "2PUKaekHEtFu"
      },
      "source": [
        "**Pie chart** is a simple circular representation of either quantitative (aggregated) or categorical variables. the full pie represents 100% of the visualized data and each slice represent a percentage of the occurences. \n",
        "\n",
        "Very useful to highlight certain slices and offers a constrasts between the dominant categories and the others."
      ]
    },
    {
      "cell_type": "code",
      "execution_count": 6,
      "metadata": {
        "colab": {
          "base_uri": "https://localhost:8080/",
          "height": 169
        },
        "id": "VpYfMnfthZeD",
        "outputId": "70ee00e9-4661-4740-b0f4-ca4ba5538ff1"
      },
      "outputs": [
        {
          "output_type": "error",
          "ename": "NameError",
          "evalue": "ignored",
          "traceback": [
            "\u001b[0;31m---------------------------------------------------------------------------\u001b[0m",
            "\u001b[0;31mNameError\u001b[0m                                 Traceback (most recent call last)",
            "\u001b[0;32m<ipython-input-6-88359fe2a848>\u001b[0m in \u001b[0;36m<module>\u001b[0;34m()\u001b[0m\n\u001b[0;32m----> 1\u001b[0;31m \u001b[0mdata\u001b[0m \u001b[0;34m=\u001b[0m \u001b[0mdf_housing\u001b[0m\u001b[0;34m[\u001b[0m\u001b[0;34m'code_commune'\u001b[0m\u001b[0;34m]\u001b[0m\u001b[0;34m.\u001b[0m\u001b[0mvalue_counts\u001b[0m\u001b[0;34m(\u001b[0m\u001b[0;34m)\u001b[0m\u001b[0;34m\u001b[0m\u001b[0;34m\u001b[0m\u001b[0m\n\u001b[0m",
            "\u001b[0;31mNameError\u001b[0m: name 'df_housing' is not defined"
          ]
        }
      ],
      "source": [
        "data = df_housing['code_commune'].value_counts()\n"
      ]
    },
    {
      "cell_type": "code",
      "execution_count": null,
      "metadata": {
        "id": "AxU6uou2hdkG"
      },
      "outputs": [],
      "source": [
        "data.index"
      ]
    },
    {
      "cell_type": "code",
      "execution_count": null,
      "metadata": {
        "id": "KEuPUVXVhfy_"
      },
      "outputs": [],
      "source": [
        "data.index[0]"
      ]
    },
    {
      "cell_type": "code",
      "execution_count": 7,
      "metadata": {
        "colab": {
          "base_uri": "https://localhost:8080/",
          "height": 169
        },
        "id": "Nx33hvo_htM2",
        "outputId": "3e013ee1-aa3a-490c-d2f9-19b963784c9d"
      },
      "outputs": [
        {
          "output_type": "error",
          "ename": "NameError",
          "evalue": "ignored",
          "traceback": [
            "\u001b[0;31m---------------------------------------------------------------------------\u001b[0m",
            "\u001b[0;31mNameError\u001b[0m                                 Traceback (most recent call last)",
            "\u001b[0;32m<ipython-input-7-1c5b25ddb451>\u001b[0m in \u001b[0;36m<module>\u001b[0;34m()\u001b[0m\n\u001b[0;32m----> 1\u001b[0;31m \u001b[0mdata\u001b[0m\u001b[0;34m.\u001b[0m\u001b[0mvalues\u001b[0m\u001b[0;34m[\u001b[0m\u001b[0;36m0\u001b[0m\u001b[0;34m]\u001b[0m\u001b[0;34m\u001b[0m\u001b[0;34m\u001b[0m\u001b[0m\n\u001b[0m",
            "\u001b[0;31mNameError\u001b[0m: name 'data' is not defined"
          ]
        }
      ],
      "source": [
        "data.values[0]"
      ]
    },
    {
      "cell_type": "code",
      "execution_count": null,
      "metadata": {
        "id": "U_5ts_PdHJqH"
      },
      "outputs": [],
      "source": [
        "#Exercice3: Use pie() function to display a Pie chart in Pyplot.\n",
        "#@todo: Display a piechart representing all #sales in Paris, where each category is the arrondissement (\"code_commune\").  \n",
        "#Don't forget to label the axes and to provide a title and a legend!\n",
        "#Bonus: how can you reduce the ugliness of this?\n"
      ]
    },
    {
      "cell_type": "markdown",
      "metadata": {
        "id": "V0EWCKPH3s50"
      },
      "source": [
        "###BoxPlot"
      ]
    },
    {
      "cell_type": "markdown",
      "metadata": {
        "id": "SPY3a9xLJS-V"
      },
      "source": [
        "\"The box-and-whisker plot is an exploratory graphic, created by John W. Tukey, used to show the distribution of a dataset (at a glance). Think of the type of data you might use a histogram with, and the box-and-whisker (or box plot, for short) could probably be useful.\" [source](https://flowingdata.com/2008/02/15/how-to-read-and-use-a-box-and-whisker-plot/)\n",
        "\n",
        "There are several functions available : use whichever you find more convenient.\n",
        "- `plt.boxplot`\n",
        "- `ax.boxplot`\n",
        "- `pd.DataFrame.boxplot`\n",
        "- ..."
      ]
    },
    {
      "cell_type": "markdown",
      "metadata": {
        "id": "JmxvlP_5KNtZ"
      },
      "source": [
        "![boxplot](https://i2.wp.com/flowingdata.com/wp-content/uploads/2008/02/box-plot-explained.gif?w=1090)"
      ]
    },
    {
      "cell_type": "code",
      "execution_count": 8,
      "metadata": {
        "id": "9wMv6OQ8JZtw"
      },
      "outputs": [],
      "source": [
        "#Exercice4: Use boxplot() function to display boxplots in Pyplot.\n",
        "#@todo: Represents all prices per district in a single figure with boxplot().  \n",
        "#Don't forget to label the axes and to provide a title and a legend!\n",
        "\n"
      ]
    },
    {
      "cell_type": "markdown",
      "metadata": {
        "id": "VNwZcWgtanDH"
      },
      "source": [
        "#Leverage MatplotLib On Real Data - Answering Open Questions"
      ]
    },
    {
      "cell_type": "markdown",
      "metadata": {
        "id": "dC1FKisXYFQ9"
      },
      "source": [
        "## Load Data "
      ]
    },
    {
      "cell_type": "markdown",
      "metadata": {
        "id": "5HYL3NRH9nx4"
      },
      "source": [
        "Let's explore Paris's real estate data. It's publicly available data that you find [here](https://www.data.gouv.fr/fr/datasets/5cc1b94a634f4165e96436c1/). We took the full dataset, cleaned it a bit and reduced it to sold appartements in paris. \n",
        "\n",
        "The file is available [here](https://drive.google.com/open?id=1BJdsMw8i8Ad0gT0LyrhAZYEL0JhN8c0m) (about 4MB). **It is the same file as in the previous exercise.** You can download it then load it on colab (under the folder \"content\"), or you can just use [this raw git url](https://raw.githubusercontent.com/annemariet/tutorials/master/data/RealEstate_Paris_cleaned_17_12_2019.csv) to load it directly with `pandas`.\n"
      ]
    },
    {
      "cell_type": "code",
      "execution_count": 9,
      "metadata": {
        "id": "9I1Z2qlRVsiQ"
      },
      "outputs": [],
      "source": [
        "#To make this section self sufficient, we'll re-import needed libraries. \n",
        "import pandas as pd\n",
        "import matplotlib.pyplot as plt"
      ]
    },
    {
      "cell_type": "code",
      "execution_count": 10,
      "metadata": {
        "id": "33eiVQg29mgb"
      },
      "outputs": [],
      "source": [
        "#Load data and display columns and shape\n"
      ]
    },
    {
      "cell_type": "markdown",
      "metadata": {
        "id": "pwjy7X65YIxN"
      },
      "source": [
        "## Basic insights"
      ]
    },
    {
      "cell_type": "markdown",
      "metadata": {
        "id": "shpROlfVYLly"
      },
      "source": [
        "Exploring data means answering questions, so let's ask a few question that you'll have to answer via visualization. \n",
        "\n",
        "PS: if you need a few minutes to look at the data, understand columns, explore missing points, etc. Go ahead :)\n",
        "\n",
        "Here are a few \"open\" questions for you to further explore the data. "
      ]
    },
    {
      "cell_type": "markdown",
      "metadata": {
        "id": "2JRPCSCaYmFN"
      },
      "source": [
        "**Question1:** What can you tell us about the number of sold items per month and per arrondissement? "
      ]
    },
    {
      "cell_type": "code",
      "execution_count": null,
      "metadata": {
        "id": "Wv7OH1h-ZhdG"
      },
      "outputs": [],
      "source": [
        "#@todo"
      ]
    },
    {
      "cell_type": "markdown",
      "metadata": {
        "id": "VpBZ5-GpYryC"
      },
      "source": [
        "**Question2:** What about prices? which regions are the most/least expensive in Paris (in average)?"
      ]
    },
    {
      "cell_type": "code",
      "execution_count": null,
      "metadata": {
        "id": "NuwvtrOKYqBt"
      },
      "outputs": [],
      "source": [
        "#@todo"
      ]
    },
    {
      "cell_type": "markdown",
      "metadata": {
        "id": "pCNH7YmToedr"
      },
      "source": [
        "**Question3:** What can we say about the relationship between price & surface? "
      ]
    },
    {
      "cell_type": "code",
      "execution_count": null,
      "metadata": {
        "id": "NtqnyEp1oeqp"
      },
      "outputs": [],
      "source": [
        "#@todo"
      ]
    },
    {
      "cell_type": "markdown",
      "metadata": {
        "id": "-oEVnKBUo753"
      },
      "source": [
        "**Question4:** Let's assume we build a prediction model to predict the price, how precise can it be? "
      ]
    },
    {
      "cell_type": "code",
      "execution_count": null,
      "metadata": {
        "id": "YhdRx36Ao8Fc"
      },
      "outputs": [],
      "source": [
        "#@todo"
      ]
    },
    {
      "cell_type": "markdown",
      "metadata": {
        "id": "Nk0-y_xGoV9V"
      },
      "source": [
        "## Complex view: master Matplotlib's multiple Axes in a Figure"
      ]
    },
    {
      "cell_type": "markdown",
      "metadata": {
        "id": "lohChL1UuysO"
      },
      "source": [
        "### HowTo & Example"
      ]
    },
    {
      "cell_type": "markdown",
      "metadata": {
        "id": "jHIj4ryMqyvJ"
      },
      "source": [
        "Putting data into perspective can be simpler with a single Figure divided into several subplots. Matplotlib enables you to do just that. \n",
        "\n",
        "**How?** simply by relying on the pyplot function subplot2grid(). See example below.  "
      ]
    },
    {
      "cell_type": "code",
      "execution_count": null,
      "metadata": {
        "colab": {
          "base_uri": "https://localhost:8080/",
          "height": 507
        },
        "id": "AhdmrkLMqy54",
        "outputId": "204ba400-2591-4af5-c063-ae26e7cb95b0"
      },
      "outputs": [
        {
          "data": {
            "image/png": "[encoded data removed]",
            "text/plain": [
              "<Figure size 1152x576 with 4 Axes>"
            ]
          },
          "metadata": {
            "tags": []
          },
          "output_type": "display_data"
        }
      ],
      "source": [
        "#Example: how to setup multiple axes. \n",
        "ex_fig = plt.figure(figsize=(16, 8))\n",
        "gridsize = (4, 4)\n",
        "ax1 = plt.subplot2grid(gridsize, (0, 0), colspan=2, rowspan=4)\n",
        "ax2 = plt.subplot2grid(gridsize, (0, 2), colspan=2, rowspan=2)\n",
        "ax3 = plt.subplot2grid(gridsize, (2, 2), colspan=1, rowspan=2)\n",
        "ax4 = plt.subplot2grid(gridsize, (2, 3), colspan=1, rowspan=2)\n",
        "plt.show()"
      ]
    },
    {
      "cell_type": "markdown",
      "metadata": {
        "id": "Vb0ptSoEu6XD"
      },
      "source": [
        "### Practices multiple Axes"
      ]
    },
    {
      "cell_type": "code",
      "execution_count": null,
      "metadata": {
        "id": "0K0PaJEWu58Q"
      },
      "outputs": [],
      "source": [
        "#@todo: Answer Exercices 2, 3 & 4 in a single figure."
      ]
    },
    {
      "cell_type": "markdown",
      "metadata": {
        "id": "ggQrWtfED215"
      },
      "source": [
        "#Built in Visualization with Seaborn"
      ]
    },
    {
      "cell_type": "markdown",
      "metadata": {
        "id": "oCWywxzVpdh5"
      },
      "source": [
        "For this part of the workshop, we'll explore the same dataset, but rely on another library built on top of Matplotlib called `seaborn`."
      ]
    },
    {
      "cell_type": "code",
      "execution_count": null,
      "metadata": {
        "id": "YMrjVQz8JoM0"
      },
      "outputs": [],
      "source": [
        "#@todo: import Seaborn library"
      ]
    },
    {
      "cell_type": "code",
      "execution_count": null,
      "metadata": {
        "id": "0FttC64rvQU0"
      },
      "outputs": [],
      "source": [
        "#@todo: answer question 1 to 4 relying on Seaborn"
      ]
    },
    {
      "cell_type": "code",
      "execution_count": null,
      "metadata": {
        "id": "OfUghSj0vXSQ"
      },
      "outputs": [],
      "source": [
        "#@todo: Explore correlations between prices and other features of the dataset."
      ]
    },
    {
      "cell_type": "code",
      "execution_count": null,
      "metadata": {
        "id": "ImTzKwxSndJo"
      },
      "outputs": [],
      "source": [
        "#@todo: Find and use Seaborn's function that enables you to plot prices, based on the surface, while computing and displaying its linear regression."
      ]
    },
    {
      "cell_type": "code",
      "execution_count": null,
      "metadata": {
        "id": "SNG_fq0IvfHV"
      },
      "outputs": [],
      "source": [
        "#Bonus: build a basic xgboost model to predict prices and visualize:\n",
        "#1. The curve describing the real prices vs predicted prices\n",
        "#2. show the centered distribution of prices\n",
        "#3. what proportion of predicted prices is within 20% of the real price.  "
      ]
    }
  ],
  "metadata": {
    "colab": {
      "collapsed_sections": [],
      "name": "Session 3 - 02_Data_Visualization_With_Python_v2.ipynb",
      "provenance": [],
      "toc_visible": true,
      "include_colab_link": true
    },
    "kernelspec": {
      "display_name": "Python 3 (ipykernel)",
      "language": "python",
      "name": "python3"
    },
    "language_info": {
      "codemirror_mode": {
        "name": "ipython",
        "version": 3
      },
      "file_extension": ".py",
      "mimetype": "text/x-python",
      "name": "python",
      "nbconvert_exporter": "python",
      "pygments_lexer": "ipython3",
      "version": "3.9.7"
    }
  },
  "nbformat": 4,
  "nbformat_minor": 0
}