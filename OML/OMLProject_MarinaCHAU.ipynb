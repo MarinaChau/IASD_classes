{
  "nbformat": 4,
  "nbformat_minor": 0,
  "metadata": {
    "colab": {
      "name": "OMLProject_MarinaCHAU.ipynb",
      "provenance": [],
      "collapsed_sections": [],
      "toc_visible": true,
      "include_colab_link": true
    },
    "kernelspec": {
      "name": "python3",
      "display_name": "Python 3"
    },
    "language_info": {
      "name": "python"
    }
  },
  "cells": [
    {
      "cell_type": "markdown",
      "metadata": {
        "id": "view-in-github",
        "colab_type": "text"
      },
      "source": [
        "<a href=\"https://colab.research.google.com/github/MarinaChau/IASD_classes/blob/master/OML/OMLProject_MarinaCHAU.ipynb\" target=\"_parent\"><img src=\"https://colab.research.google.com/assets/colab-badge.svg\" alt=\"Open In Colab\"/></a>"
      ]
    },
    {
      "cell_type": "markdown",
      "source": [
        "# 1. Second-order optimization methods"
      ],
      "metadata": {
        "id": "UfLnjKB3CSsk"
      }
    },
    {
      "cell_type": "code",
      "source": [
        "# Preamble: useful toolboxes, librairies, functions, etc.\n",
        "\n",
        "# Display\n",
        "%matplotlib inline\n",
        "import matplotlib.pyplot as plt\n",
        "\n",
        "from math import sqrt # Square root\n",
        "\n",
        "# NumPy - Matrix and vector structures\n",
        "import numpy as np # NumPy library\n",
        "from numpy.random import multivariate_normal, randn, uniform # Probability distributions\n",
        "\n",
        "# SciPy - Efficient mathematical calculation\n",
        "from scipy.linalg import norm # Euclidean norm\n",
        "from scipy.linalg.special_matrices import toeplitz # Toeplitz matrices\n",
        "from scipy.linalg import svdvals # Singular value decomposition\n",
        "from scipy.optimize import check_grad # Check derivatives\n",
        "from scipy.optimize import fmin_l_bfgs_b # Efficient method for minimization\n",
        "\n",
        "#Compteur de comparaison\n",
        "Ite_BFGS = 0 \n",
        "Fonc_BFGS = 0\n",
        "Grad_BFGS = 0\n",
        "Ite_Newton = 0 \n",
        "Fonc_Newton = 0\n",
        "Grad_Newton = 0"
      ],
      "metadata": {
        "id": "rnLuKCgxCjNB"
      },
      "execution_count": null,
      "outputs": []
    },
    {
      "cell_type": "markdown",
      "source": [
        "## 1.1 Newton's method"
      ],
      "metadata": {
        "id": "3s8M_bawNdFp"
      }
    },
    {
      "cell_type": "markdown",
      "source": [
        "### Implementation 1.1"
      ],
      "metadata": {
        "id": "g2zEGYK5NkCK"
      }
    },
    {
      "cell_type": "code",
      "source": [
        "def newton_method(w0, function_f, gradient_f, hessian_f, n_iter, eps = 0.0001):\n",
        "    \"\"\"\n",
        "        A code for  Newton's method in its basic form\n",
        "\n",
        "        Inputs:\n",
        "            w0: Initial vector\n",
        "            function_f: Objective function\n",
        "            gradient_f: Gradient of the objective function\n",
        "            hessian_f: hessian matrix of the objective function\n",
        "            n_iter: Number of iterations\n",
        "            eps: convergence stop\n",
        "\n",
        "        Outputs:\n",
        "            w_output: Final iterate of the method\n",
        "    \"\"\"\n",
        "\n",
        "        ############\n",
        "    # Initialize iteration counter\n",
        "    k=1\n",
        "    ####################\n",
        "    # Main loop\n",
        "    w = w0 - np.dot(np.linalg.inv(hessian_f(w0)), gradient_f(w0))\n",
        "    while (np.linalg.norm(gradient_f(w), 2) > eps and k < n_iter):\n",
        "        \n",
        "        # Select the stepsize and perform the update\n",
        "        w = w - np.dot(np.linalg.inv(hessian_f(w)), gradient_f(w))\n",
        "        \n",
        "        # Increment the iteration count\n",
        "        k += 1\n",
        "        \n",
        "    \n",
        "    # End main loop\n",
        "    ######################\n",
        "    # Output\n",
        "    print(w)\n",
        "    w_output = w.copy()\n",
        "    return w_output, k\n"
      ],
      "metadata": {
        "id": "hWIZofCKDVHh"
      },
      "execution_count": null,
      "outputs": []
    },
    {
      "cell_type": "markdown",
      "source": [
        "### Question 1.1 \n",
        "\n",
        "a) \n",
        "\n",
        "minimize  $  w∈R^3 q(w) := 2(w1 + w2 + w3 − 3)^2 + (w1 − w2)^2 + (w2 − w3)^2 $\n",
        "\n",
        "We have: $\\nabla f (w) = \n",
        "\\begin{bmatrix}\n",
        "          6w_1 + 2w_2 + 4w_3 -12 \\\\\n",
        "          2w_1 + 8w_2 + 2w_3 -12\\\\     \n",
        "          4w_1 + 2w_2 + 6w_3 -12\n",
        "\\end{bmatrix}$\n",
        "and the hessian $\\nabla^2f(w) = \\begin{bmatrix}\n",
        "          6 & 2 & 4\\\\\n",
        "          2 & 8 & 2\\\\\n",
        "          4 & 2 & 6\n",
        "\\end{bmatrix}$\n",
        "\n",
        "After inverting the hessian:\n",
        "$\\nabla^2f(w)^{-1} = \\begin{bmatrix}\n",
        "          \\frac{11}{36} & -\\frac{1}{36} & -\\frac{7}{36}\\\\\n",
        "          -\\frac{1}{36} & \\frac{5}{36} & -\\frac{1}{36}\\\\\n",
        "          -\\frac{7}{36} & -\\frac{1}{36} & \\frac{11}{36}\n",
        "\\end{bmatrix}$\n",
        "\n",
        "So at step 1: with $ w_0 = \\begin{bmatrix}\n",
        "          0\\\\\n",
        "          0\\\\\n",
        "          0\n",
        "\\end{bmatrix}$\n",
        "\n",
        "We get,\n",
        "\n",
        "$w_1 = w_0 − [\\nabla^2 f (w_0)]^{-1} \\nabla f (w_0) = -\\begin{bmatrix}\n",
        "          \\frac{11}{36} & -\\frac{1}{36} & -\\frac{7}{36}\\\\\n",
        "          -\\frac{1}{36} & \\frac{5}{36} & -\\frac{1}{36}\\\\\n",
        "          -\\frac{7}{36} & -\\frac{1}{36} & \\frac{11}{36}\n",
        "\\end{bmatrix}  \\begin{bmatrix}\n",
        "           -12 \\\\\n",
        "           -12\\\\     \n",
        "           -12\n",
        "\\end{bmatrix}$ =$\\begin{bmatrix}\n",
        "           1 \\\\\n",
        "           1 \\\\     \n",
        "           1\n",
        "\\end{bmatrix}$\n",
        "\n",
        "\n",
        "Thus, after one iteration, it converges to the solution with Newton's method. \n",
        "\n"
      ],
      "metadata": {
        "id": "_tj8qK-WaY9M"
      }
    },
    {
      "cell_type": "markdown",
      "source": [
        "b)"
      ],
      "metadata": {
        "id": "R3OU_aMYj_4A"
      }
    },
    {
      "cell_type": "code",
      "source": [
        "def newton_method(fonc, w_0, w_star, eps, max_iter=1000):\n",
        "  \"\"\"\n",
        "  A code to compute Newton's method.\n",
        "  \"\"\"\n",
        "  w_k = w_0\n",
        "  val = fonc()\n",
        "  delta = 1\n",
        "  D = []\n",
        "  k=0\n",
        "  while (delta > eps and k < max_iter):\n",
        "    k+=1\n",
        "    w_k = newton_iteration(val.grad(w_k), val.hess(w_k), w_k)\n",
        "    delta = np.linalg.norm(w_k - w_star)\n",
        "    D.append(delta)\n",
        "  return w_k, D\n",
        "\n",
        "def newton_iteration(grad, second_grad, w_k):\n",
        "  inv_sec_grad = np.linalg.inv(second_grad)\n",
        "  w = w_k - np.dot(inv_sec_grad, grad)\n",
        "  return w"
      ],
      "metadata": {
        "id": "DzjhegTvJjL3"
      },
      "execution_count": null,
      "outputs": []
    },
    {
      "cell_type": "code",
      "source": [
        "class quadratic_func :\n",
        "  def q(self, w):\n",
        "      return 2*(w[0]+w[1]+w[2]-3)**2+(w[0]-w[1])**2+(w[1]-w[2])**2\n",
        "\n",
        "  def grad(self, w):\n",
        "      grad = np.zeros(3)\n",
        "      grad[0]=6*w[0]+2*w[1]+4*w[2]-12\n",
        "      grad[1]=2*w[0]+8*w[1]+2*w[2]-12\n",
        "      grad[2]=4*w[0]+2*w[1]+6*w[2]-12\n",
        "      return grad\n",
        "\n",
        "  def hess(self, w):\n",
        "      res = np.array([[6,2,4],\n",
        "                    [2,8,2],\n",
        "                    [4,2,6]])\n",
        "      return res\n"
      ],
      "metadata": {
        "id": "77_JSfwzkFrt"
      },
      "execution_count": null,
      "outputs": []
    },
    {
      "cell_type": "code",
      "source": [
        "# Different starting points\n",
        "w_origin = np.array([0, 0, 0])\n",
        "w_1 = np.array([1, 1, 1])\n",
        "w_2 = np.array([1, 0, 0])\n",
        "n_iter= 1000"
      ],
      "metadata": {
        "id": "KtT8CH3-jvKV"
      },
      "execution_count": null,
      "outputs": []
    },
    {
      "cell_type": "code",
      "source": [
        "w_0_origin = np.zeros(3) # origin point\n",
        "w_0_1 = np.array([100,-0.1, -11])\n",
        "w_0_2 = np.array([-100,-200, -50])\n",
        "\n",
        "sol, D = newton_method(quadratic_func, w_0_origin, np.ones(3), 0.0001)\n",
        "print(D)\n",
        "sol, D = newton_method(quadratic_func, w_0_1, np.ones(3), 0.0001)\n",
        "print(D)\n",
        "sol, D = newton_method(quadratic_func, w_0_2, np.ones(3), 0.0001)\n",
        "print(D)\n",
        "#Pour un précision de 10e-4 l'algorithme n'a eu besoin d'une seul itération pour converger peu importe le point de départ\n"
      ],
      "metadata": {
        "colab": {
          "base_uri": "https://localhost:8080/"
        },
        "id": "ZFhZJvGTlfYH",
        "outputId": "49cf0e69-f8c5-41ff-e930-f39f62389230"
      },
      "execution_count": null,
      "outputs": [
        {
          "output_type": "stream",
          "name": "stdout",
          "text": [
            "[6.280369834735101e-16]\n",
            "[5.872156290738386e-14]\n",
            "[6.961868572213853e-14]\n"
          ]
        }
      ]
    },
    {
      "cell_type": "markdown",
      "source": [
        "With Newton's method and for one iteration we got an accuracy around 10e-4."
      ],
      "metadata": {
        "id": "CI0gFqMkKeVW"
      }
    },
    {
      "cell_type": "markdown",
      "source": [
        "We thus observe a convergence with the 1st iteration.\n"
      ],
      "metadata": {
        "id": "T9HtV2_hm7JY"
      }
    },
    {
      "cell_type": "markdown",
      "source": [
        "### Question 1.2"
      ],
      "metadata": {
        "id": "P6HiPUbxqGg8"
      }
    },
    {
      "cell_type": "markdown",
      "source": [
        "*a*) Rosenbrock function"
      ],
      "metadata": {
        "id": "7bkZK_UWqbJg"
      }
    },
    {
      "cell_type": "code",
      "source": [
        "class Rosenbrock:\n",
        "  def q(self, w):\n",
        "      return 100*(w[1]-w[0]**2)**2+(1-w[0])**2\n",
        "\n",
        "  def grad(self, w):\n",
        "      return np.array((400 * w[0]**3 - 400 * w[0] * w[1] + 2* w[0] - 2, 200 * (w[1] - w[0]**2)))\n",
        "\n",
        "  def hess(self, w):\n",
        "      return np.array([(1200* w[0] ** 2 - 400* w[1] + 2, -400 * w[0]), [-400 * w[0], 200]])\n",
        "\n"
      ],
      "metadata": {
        "id": "JYaqOadWqcsx"
      },
      "execution_count": null,
      "outputs": []
    },
    {
      "cell_type": "code",
      "source": [
        "w_0_origin = np.zeros(2)\n",
        "sol , D = newton_method(Rosenbrock, w_0_origin, np.ones(2), 1e-4)\n",
        "print(D)\n",
        "\n",
        "w_01 = np.array([-1.2,1])\n",
        "w_02 = np.array([0, 1/200 + 10e-6])\n",
        "w_03 = np.array([0, 0.000005])\n",
        "\n",
        "sol , D = newton_method(Rosenbrock, w_01, np.ones(2), 0.001)\n",
        "print(D)\n",
        "\n",
        "\n"
      ],
      "metadata": {
        "colab": {
          "base_uri": "https://localhost:8080/"
        },
        "id": "m9zs6mM6KxKA",
        "outputId": "ee82718c-930f-4eb7-ccd0-40271f85af87"
      },
      "execution_count": null,
      "outputs": [
        {
          "output_type": "stream",
          "name": "stdout",
          "text": [
            "[1.0, 2.220446049250313e-16]\n",
            "[2.208338697540568, 4.1817487074851885, 0.4795838662545383, 0.0559726763430513, 9.624794643081259e-06]\n"
          ]
        }
      ]
    },
    {
      "cell_type": "code",
      "source": [
        "sol , D = newton_method(Rosenbrock, w_02, np.ones(2), 0.001)\n",
        "print(sol, D)\n"
      ],
      "metadata": {
        "colab": {
          "base_uri": "https://localhost:8080/"
        },
        "id": "iQPhvEA9Egy9",
        "outputId": "8dab19d4-3fc3-4db6-8ed8-30227e70e4aa"
      },
      "execution_count": null,
      "outputs": [
        {
          "output_type": "stream",
          "name": "stdout",
          "text": [
            "[1.00000359 1.00000718] [501.0009980029975, 249999.49198350386, 251000.9935519797, 8.032033795640916e-06]\n"
          ]
        }
      ]
    },
    {
      "cell_type": "code",
      "source": [
        "\n",
        "sol , D = newton_method(Rosenbrock, w_03, np.ones(2), 0.001)\n",
        "print(sol, D)\n"
      ],
      "metadata": {
        "colab": {
          "base_uri": "https://localhost:8080/"
        },
        "id": "FFvIUrp1EmlW",
        "outputId": "7eccdd11-14a4-4a31-f1e5-727da8afba75"
      },
      "execution_count": null,
      "outputs": [
        {
          "output_type": "stream",
          "name": "stdout",
          "text": [
            "[1.         0.99999901] [1.0000005010013764, 0.0022280799447062754, 9.92067517259189e-07]\n"
          ]
        }
      ]
    },
    {
      "cell_type": "markdown",
      "source": [
        "a) It converges in both case, save when the second term of W02 is equals to 1/200 + 10e-12. Indeed, in that case the hessian can not be inverted. I changed it to 1/200 + 10e-6.\n",
        "\n",
        "b) We can see that w02 and w03 are similar, with different noise. Both got the same local optimum, thus illustrating Newton's method local in nature."
      ],
      "metadata": {
        "id": "Dsj1hcwgKz96"
      }
    },
    {
      "cell_type": "markdown",
      "source": [
        "## 1.2 A globally convergent version of Newton's method"
      ],
      "metadata": {
        "id": "rejk0MTqwF-K"
      }
    },
    {
      "cell_type": "markdown",
      "source": [
        "### Implementation 1.2 "
      ],
      "metadata": {
        "id": "Rd-C4GbSybUz"
      }
    },
    {
      "cell_type": "code",
      "source": [
        "def get_lambda(A):\n",
        "  lambda_min = np.linalg.eigvals(A)[0]\n",
        "  lambda_k = 2*max(0.001, -lambda_min)         #Ne marche pas avec 0.\n",
        "  return lambda_k\n",
        "\n",
        "\n",
        "def get_alpha_Armijo(teta, f, w, c, d):   \n",
        "  i = 1\n",
        "  alpha = teta \n",
        "  while (f.q(w+alpha*d) >= f.q(w)+c*alpha*np.dot(d, f.grad(w))):    #f.grad déja calcul aurait pu être évité, répétition pas pris en compte pour 1.5\n",
        "    i += 1\n",
        "    alpha = teta ** i\n",
        "  return teta ** (i-1) \n",
        "\n",
        "\n",
        "def Newton_like_ite(f, grad, second_grad, w_k , c, teta):\n",
        "  Lambda = get_lambda(second_grad)\n",
        "  inv = np.linalg.inv((second_grad + Lambda * np.eye(second_grad.shape[0])))\n",
        "  d = - np.dot(inv, grad)\n",
        "  alpha = get_alpha_Armijo(teta, f, w_k, c, d)\n",
        "  w = w_k + alpha * d\n",
        "\n",
        "  global Fonc_Newton\n",
        "  global Grad_Newton\n",
        "  Fonc_Newton += 2\n",
        "  Grad_Newton += 1\n",
        "  return w\n",
        "\n",
        "def Newton_like(fonc, w_0, w_star, c, teta, eps):\n",
        "  w_k = w_0\n",
        "  val = fonc()\n",
        "  delta = 1\n",
        "  D = []\n",
        "  n_iter = 0\n",
        "  while (delta > eps):\n",
        "    w_k = Newton_like_ite(val, val.grad(w_k), val.hess(w_k) ,w_k ,c ,teta)\n",
        "    delta = np.linalg.norm(w_k - w_star)\n",
        "    D.append(delta)\n",
        "    global Ite_Newton\n",
        "    Ite_Newton += 1\n",
        "    n_iter += 1\n",
        "    #print(delta)\n",
        "  return w_k, D, n_iter\n"
      ],
      "metadata": {
        "id": "8HuI68YIFm8V"
      },
      "execution_count": null,
      "outputs": []
    },
    {
      "cell_type": "markdown",
      "source": [
        "### Question 1.3 "
      ],
      "metadata": {
        "id": "ys7B7HJu3tIx"
      }
    },
    {
      "cell_type": "code",
      "source": [
        "w_01 = np.array([-1.2,1.1])\n",
        "w_02 = np.array([0, 1/200 + 10e-12])\n"
      ],
      "metadata": {
        "id": "OT2D59wX2M0S"
      },
      "execution_count": null,
      "outputs": []
    },
    {
      "cell_type": "code",
      "source": [
        "# with w01\n",
        "sol1 , D1, n_iter = Newton_like(Rosenbrock, w_01, np.ones(2),  0.0001, 0.5, 0.001)\n",
        "print(f\"w* : {sol}, \\n and delta between (wk - w*): {D}\")\n",
        "n_iter"
      ],
      "metadata": {
        "colab": {
          "base_uri": "https://localhost:8080/"
        },
        "id": "Hp_n1AyjH_vZ",
        "outputId": "872ec6f3-ac5f-4424-cf55-5f3d64f02c82"
      },
      "execution_count": null,
      "outputs": [
        {
          "output_type": "stream",
          "name": "stdout",
          "text": [
            "w* : [0.99991025 0.99955805], \n",
            " and delta between (wk - w*): [1.1188766410939974, 0.9028599480740718, 0.5685309918297299, 0.48053418695860045, 0.08545973641922291, 0.03617046517209554, 0.0004509693486329913]\n"
          ]
        },
        {
          "output_type": "execute_result",
          "data": {
            "text/plain": [
              "14"
            ]
          },
          "metadata": {},
          "execution_count": 443
        }
      ]
    },
    {
      "cell_type": "code",
      "source": [
        "sol2 , D2, n_iter = Newton_like(Rosenbrock, w_02, np.ones(2),  0.0001, 0.5, 0.001)\n",
        "print(f\"w* : {sol}, \\n and delta between (wk - w*): {D}\")"
      ],
      "metadata": {
        "colab": {
          "base_uri": "https://localhost:8080/"
        },
        "id": "XDUtBtMvHvYp",
        "outputId": "07d57e59-ab94-4169-c7b2-2cf5b1063eb6"
      },
      "execution_count": null,
      "outputs": [
        {
          "output_type": "stream",
          "name": "stdout",
          "text": [
            "w* : [0.99991025 0.99955805], \n",
            " and delta between (wk - w*): [1.1188766410939974, 0.9028599480740718, 0.5685309918297299, 0.48053418695860045, 0.08545973641922291, 0.03617046517209554, 0.0004509693486329913]\n"
          ]
        }
      ]
    },
    {
      "cell_type": "code",
      "source": [
        "# Plot convergence for w01 and w02\n",
        "D2 = D2 + [0] * 7"
      ],
      "metadata": {
        "id": "09QPIIYJH0Xn"
      },
      "execution_count": null,
      "outputs": []
    },
    {
      "cell_type": "code",
      "source": [
        "x = np.arange(0, 14)\n",
        "plt.plot(x, D1, label=\"delta w01\")\n",
        "plt.plot(x, D2, label=\"delta w02\")\n",
        "plt.legend()\n",
        "plt.xlabel(\"Iteration\")\n",
        "plt.ylabel(\"Delta\")\n",
        "plt.show()"
      ],
      "metadata": {
        "colab": {
          "base_uri": "https://localhost:8080/",
          "height": 279
        },
        "id": "blaUz2sHKaTj",
        "outputId": "b9c30219-61c0-49f4-b51e-f2093b795812"
      },
      "execution_count": null,
      "outputs": [
        {
          "output_type": "display_data",
          "data": {
            "image/png": "[encoded data removed]",
            "text/plain": [
              "<Figure size 432x288 with 1 Axes>"
            ]
          },
          "metadata": {
            "needs_background": "light"
          }
        }
      ]
    },
    {
      "cell_type": "markdown",
      "source": [
        "This method is more robust than Newton's method. We can for example calculate w02 without any errors. Both of them converge towards zero. However, we are slower with the second method in term of convergence rate than with Newton's for w01. "
      ],
      "metadata": {
        "id": "pzFdRaARy4_l"
      }
    },
    {
      "cell_type": "markdown",
      "source": [
        "### Question 1.4"
      ],
      "metadata": {
        "id": "5krEV6ZS3vzV"
      }
    },
    {
      "cell_type": "code",
      "source": [
        "# Compute sol and D for different values of theta and c.\n",
        "\n",
        "c = np.arange(0.01, 0.5, 0.02)\n",
        "theta = np.arange(0.01, 0.99999, 0.04)\n",
        "n = np.zeros((c.shape[0], theta.shape[0]))\n",
        "\n",
        "for i in range(c.shape[0]):\n",
        "    for j in range(theta.shape[0]):\n",
        "        sol1 , D1, n_iter1 = Newton_like(Rosenbrock, w_01, np.ones(2),  c[i], theta[j], 0.001)\n",
        "        sol2 , D2, n_iter2 = Newton_like(Rosenbrock, w_02, np.ones(2),  c[i], theta[j], 0.001)\n",
        "        n[i,j] = np.mean([n_iter1, n_iter2])\n",
        "        #n.append(np.mean([n1,n2]))\n",
        "n = np.array(n)    \n"
      ],
      "metadata": {
        "id": "wYYaAJKDNYLe"
      },
      "execution_count": null,
      "outputs": []
    },
    {
      "cell_type": "code",
      "source": [
        "from mpl_toolkits import mplot3d\n",
        "\n",
        "\n",
        "%matplotlib inline\n",
        "import numpy as np\n",
        "import matplotlib.pyplot as plt\n",
        "\n",
        "fig = plt.figure()\n",
        "ax = plt.axes(projection='3d')\n",
        "\n",
        "X, Y = np.meshgrid(c, theta)\n",
        "ax.contour3D(X, Y, n, 500)\n",
        "ax.set_xlabel('x c')\n",
        "ax.set_ylabel('y theta')\n",
        "ax.set_zlabel('z')\n"
      ],
      "metadata": {
        "colab": {
          "base_uri": "https://localhost:8080/",
          "height": 320
        },
        "id": "V0iyj4dzO16a",
        "outputId": "3f168956-d7b3-4003-bc4b-cab2021e3e3c"
      },
      "execution_count": null,
      "outputs": [
        {
          "output_type": "stream",
          "name": "stderr",
          "text": [
            "/usr/local/lib/python3.7/dist-packages/mpl_toolkits/mplot3d/art3d.py:304: VisibleDeprecationWarning: Creating an ndarray from ragged nested sequences (which is a list-or-tuple of lists-or-tuples-or ndarrays with different lengths or shapes) is deprecated. If you meant to do this, you must specify 'dtype=object' when creating the ndarray.\n",
            "  self._segments3d = np.asanyarray(segments)\n"
          ]
        },
        {
          "output_type": "execute_result",
          "data": {
            "text/plain": [
              "Text(0.5, 0, 'z')"
            ]
          },
          "metadata": {},
          "execution_count": 449
        },
        {
          "output_type": "display_data",
          "data": {
            "image/png": "[encoded data removed]",
            "text/plain": [
              "<Figure size 432x288 with 1 Axes>"
            ]
          },
          "metadata": {
            "needs_background": "light"
          }
        }
      ]
    },
    {
      "cell_type": "markdown",
      "source": [
        "We can see that for high values of theta it converges faster, it isn't clear for c what's the best value. However, we can notice that for a fixed theta, the method is less sensitive to variation of c. \n"
      ],
      "metadata": {
        "id": "PCHDDq5WPKKN"
      }
    },
    {
      "cell_type": "markdown",
      "source": [
        "## 1.3 Quasi Newton methods and BFGS"
      ],
      "metadata": {
        "id": "a2k6LubnNZud"
      }
    },
    {
      "cell_type": "markdown",
      "source": [
        "### Implementation 1.3"
      ],
      "metadata": {
        "id": "S8Y1TZ5v7UTC"
      }
    },
    {
      "cell_type": "code",
      "source": [
        "def BFGS_ite(f, grad, H, w_k, c, teta):\n",
        "    d = - np.dot(H, grad)\n",
        "    alpha = get_alpha_Armijo(teta, f, w_k, c, d)\n",
        "    #print(alpha)\n",
        "    w = w_k -  alpha*np.dot(H, grad)\n",
        "    s_k = w - w_k\n",
        "    v_k = f.grad(w) - grad\n",
        "    global Grad_BFGS \n",
        "    global Fonc_BFGS \n",
        "    Grad_BFGS += 2\n",
        "    Fonc_BFGS += 2\n",
        "    \n",
        "    if np.dot(s_k, v_k)>0:\n",
        "      v_k = v_k.reshape((w_k.shape[0],1))\n",
        "      s_k = s_k.reshape((1,w_k.shape[0]))\n",
        "      l = np.eye(grad.shape[0])- (np.matmul(v_k,s_k))/np.dot(s_k, v_k)[0,0]\n",
        "      H = l.T @ H @ l + (s_k.T @ s_k)/np.dot(s_k, v_k)[0,0]\n",
        "    return w, H\n",
        "\n",
        "def BFGS(fonc, w_0, w_star, eps, c, teta):\n",
        "    w_k = w_0\n",
        "    val = fonc()\n",
        "    delta = 1 \n",
        "    D = []\n",
        "    H = np.eye(w_0.shape[0])\n",
        "    while (delta > eps):\n",
        "      w_k, H = BFGS_ite(val, val.grad(w_k), H ,w_k ,c ,teta)\n",
        "      global Ite_BFGS\n",
        "      Ite_BFGS += 1\n",
        "      \n",
        "      delta = np.linalg.norm(w_k - w_star)\n",
        "      D.append(delta)\n",
        "    return w_k, D\n",
        "    \n"
      ],
      "metadata": {
        "id": "TabYFZu057Ri"
      },
      "execution_count": null,
      "outputs": []
    },
    {
      "cell_type": "markdown",
      "source": [
        "### Question 1.5"
      ],
      "metadata": {
        "id": "rV8sIOtZSuVe"
      }
    },
    {
      "cell_type": "code",
      "source": [
        "w_0_origin = np.zeros(2)\n",
        "sol , D = BFGS(Rosenbrock, w_0_origin, np.ones(2), 0.001, 0.0001, 0.5)\n",
        "print(sol)\n",
        "\n",
        "w_0_1 = np.array([-1.2,1])\n",
        "w_0_2 = np.array([0, 1/200 + 10e-12])\n",
        "sol , D = BFGS(Rosenbrock, w_0_1, np.ones(2), 0.001, 0.0001, 0.5)\n",
        "print(sol)\n",
        "\n"
      ],
      "metadata": {
        "colab": {
          "base_uri": "https://localhost:8080/"
        },
        "id": "UFyJTNaP31kl",
        "outputId": "894a77a5-49e3-4279-f9cf-ac7b41a82b78"
      },
      "execution_count": null,
      "outputs": [
        {
          "output_type": "stream",
          "name": "stdout",
          "text": [
            "[1.00032849 1.000671  ]\n",
            "[0.99999939 0.99993621]\n"
          ]
        }
      ]
    },
    {
      "cell_type": "code",
      "source": [
        "# BFGS - QuasiNewton -> Rosenrock\n",
        "Ite_BFGS = 0 \n",
        "Fonc_BFGS = 0\n",
        "Grad_BFGS = 0\n",
        "Ite_Newton = 0 \n",
        "Fonc_Newton = 0\n",
        "Grad_Newton = 0\n",
        "\n",
        "print(\"Comparison of Quasi-Newton and BFGS on Rosenbrock \\n\")\n",
        "\n",
        "w_0_origin = np.zeros(2)\n",
        "sol , D = BFGS(Rosenbrock, w_0_origin, np.ones(2), 0.001, 0.0001, 0.5)\n",
        "print(\"BFGS -> initialisation :\", w_0_origin, \" results: Ite:\", Ite_BFGS, \", Fonction Eval:\", Fonc_BFGS, \", grad eval :\", Grad_BFGS )\n",
        "sol , D, n_iter = Newton_like(Rosenbrock, w_0_origin, np.ones(2),  0.0001, 0.5, 0.001)\n",
        "print(\"Newton -> initialisation :\", w_0_origin, \" results: Ite:\", Ite_Newton, \", Fonction Eval:\", Fonc_Newton, \", grad eval :\", Grad_Newton, \", Hess eval:\", 2*Grad_Newton  )\n",
        "\n",
        "print(\"\\n\")\n",
        "w_0_1 = np.array([-1.2,1])\n",
        "Ite_BFGS = 0 \n",
        "Fonc_BFGS = 0\n",
        "Grad_BFGS = 0\n",
        "Ite_Newton = 0 \n",
        "Fonc_Newton = 0\n",
        "Grad_Newton = 0\n",
        "sol , D = BFGS(Rosenbrock, w_0_1, np.ones(2), 0.001, 0.0001, 0.5)\n",
        "print(\"BFGS -> initialisation :\", w_0_1, \" results: Ite:\", Ite_BFGS, \", Fonction Eval:\", Fonc_BFGS, \", grad eval :\", Grad_BFGS )\n",
        "sol , D, n_iter = Newton_like(Rosenbrock, w_0_1, np.ones(2),  0.0001, 0.5, 0.001)\n",
        "print(\"Newton -> initialisation :\", w_0_1, \" results: Ite:\", Ite_Newton, \", Fonction Eval:\", Fonc_Newton, \", grad eval :\", Grad_Newton, \", Hess eval:\", 2*Grad_Newton  )\n",
        "\n",
        "\n",
        "w_0_2 = np.array([0, 1/200 + 10e-12])\n",
        "print(\"\\n\")\n",
        "Ite_BFGS = 0 \n",
        "Fonc_BFGS = 0\n",
        "Grad_BFGS = 0\n",
        "Ite_Newton = 0 \n",
        "Fonc_Newton = 0\n",
        "Grad_Newton = 0\n",
        "sol , D = BFGS(Rosenbrock, w_0_2, np.ones(2), 0.001, 0.0001, 0.5)\n",
        "print(\"BFGS -> initialisation :\", w_0_2, \" results: Ite:\", Ite_BFGS, \", Fonction Eval:\", Fonc_BFGS, \", grad eval :\", Grad_BFGS )\n",
        "sol , D, n_iter = Newton_like(Rosenbrock, w_0_2, np.ones(2),  0.0001, 0.5, 0.001)\n",
        "print(\"Newton -> initialisation :\", w_0_2, \" results: Ite:\", Ite_Newton, \", Fonction Eval:\", Fonc_Newton, \", grad eval :\", Grad_Newton, \", Hess eval:\", 2*Grad_Newton  )"
      ],
      "metadata": {
        "colab": {
          "base_uri": "https://localhost:8080/"
        },
        "id": "kElOLS63NFkE",
        "outputId": "0abd59f7-904e-4c49-8983-632e55475ca0"
      },
      "execution_count": null,
      "outputs": [
        {
          "output_type": "stream",
          "name": "stdout",
          "text": [
            "Comparison of Quasi-Newton and BFGS on Rosenbrock \n",
            "\n",
            "BFGS -> initialisation : [0. 0.]  results: Ite: 51 , Fonction Eval: 102 , grad eval : 102\n",
            "Newton -> initialisation : [0. 0.]  results: Ite: 7 , Fonction Eval: 14 , grad eval : 7 , Hess eval: 14\n",
            "\n",
            "\n",
            "BFGS -> initialisation : [-1.2  1. ]  results: Ite: 48 , Fonction Eval: 96 , grad eval : 96\n",
            "Newton -> initialisation : [-1.2  1. ]  results: Ite: 14 , Fonction Eval: 28 , grad eval : 14 , Hess eval: 28\n",
            "\n",
            "\n",
            "BFGS -> initialisation : [0.    0.005]  results: Ite: 32 , Fonction Eval: 64 , grad eval : 64\n",
            "Newton -> initialisation : [0.    0.005]  results: Ite: 7 , Fonction Eval: 14 , grad eval : 7 , Hess eval: 14\n"
          ]
        }
      ]
    },
    {
      "cell_type": "code",
      "source": [
        "# BFGS - QuasiNewton -> q\n",
        "Ite_BFGS = 0 \n",
        "Fonc_BFGS = 0\n",
        "Grad_BFGS = 0\n",
        "Ite_Newton = 0 \n",
        "Fonc_Newton = 0\n",
        "Grad_Newton = 0\n",
        "\n",
        "print(\"Comparaison of Quasi-Newton and BFGS on q \\n\")\n",
        "\n",
        "w_0_origin = np.zeros(3)\n",
        "sol , D = BFGS(quadratic_func, w_0_origin, np.ones(3), 0.001, 0.0001, 0.5)\n",
        "print(\"BFGS -> initialisation :\", w_0_origin, \" résultat: Ite:\", Ite_BFGS, \", Fonction Eval:\", Fonc_BFGS, \", grad eval :\", Grad_BFGS )\n",
        "sol , D, _= Newton_like(quadratic_func, w_0_origin, np.ones(3),  0.0001, 0.5, 0.001)\n",
        "print(\"Newton -> initialisation :\", w_0_origin, \" résultat: Ite:\", Ite_Newton, \", Fonction Eval:\", Fonc_Newton, \", grad eval :\", Grad_Newton, \", Hess eval:\", 3*Grad_Newton  )\n",
        "\n",
        "print(\"\\n\")\n",
        "w_0_1 = np.array([100, -0.1, -11])\n",
        "Ite_BFGS = 0 \n",
        "Fonc_BFGS = 0\n",
        "Grad_BFGS = 0\n",
        "Ite_Newton = 0 \n",
        "Fonc_Newton = 0\n",
        "Grad_Newton = 0\n",
        "sol , D = BFGS(quadratic_func, w_0_1, np.ones(3), 0.001, 0.0001, 0.5)\n",
        "print(\"BFGS -> initialisation :\", w_0_1, \" result: Ite:\", Ite_BFGS, \", func Eval:\", Fonc_BFGS, \", grad eval :\", Grad_BFGS )\n",
        "sol , D, _ = Newton_like(quadratic_func, w_0_1, np.ones(3),  0.0001, 0.5, 0.001)\n",
        "print(\"Newton -> initialisation :\", w_0_1, \" result: Ite:\", Ite_Newton, \", func Eval:\", Fonc_Newton, \", grad eval :\", Grad_Newton, \", Hess eval:\", 3*Grad_Newton  )\n",
        "\n",
        "\n",
        "w_0_2 = np.array([-100,-200, -50])\n",
        "print(\"\\n\")\n",
        "Ite_BFGS = 0 \n",
        "Fonc_BFGS = 0\n",
        "Grad_BFGS = 0\n",
        "Ite_Newton = 0 \n",
        "Fonc_Newton = 0\n",
        "Grad_Newton = 0\n",
        "sol , D = BFGS(quadratic_func, w_0_2, np.ones(3), 0.001, 0.0001, 0.5)\n",
        "print(\"BFGS -> initialisation :\", w_0_2, \" result: Ite:\", Ite_BFGS, \", Fonction Eval:\", Fonc_BFGS, \", grad eval :\", Grad_BFGS )\n",
        "sol , D, _ = Newton_like(quadratic_func, w_0_2, np.ones(3),  0.0001, 0.5, 0.001)\n",
        "print(\"Newton -> initialisation :\", w_0_2, \" result: Ite:\", Ite_Newton, \", Fonction Eval:\", Fonc_Newton, \", grad eval :\", Grad_Newton, \", Hess eval:\", 3*Grad_Newton  )"
      ],
      "metadata": {
        "colab": {
          "base_uri": "https://localhost:8080/"
        },
        "id": "VJ_hgRDsNJFb",
        "outputId": "a39aa113-51ae-4715-d03d-0d78888afe6e"
      },
      "execution_count": null,
      "outputs": [
        {
          "output_type": "stream",
          "name": "stdout",
          "text": [
            "Comparaison of Quasi-Newton and BFGS on q \n",
            "\n",
            "BFGS -> initialisation : [0. 0. 0.]  résultat: Ite: 2 , Fonction Eval: 4 , grad eval : 4\n",
            "Newton -> initialisation : [0. 0. 0.]  résultat: Ite: 1 , Fonction Eval: 2 , grad eval : 1 , Hess eval: 3\n",
            "\n",
            "\n",
            "BFGS -> initialisation : [100.   -0.1 -11. ]  result: Ite: 8 , func Eval: 16 , grad eval : 16\n",
            "Newton -> initialisation : [100.   -0.1 -11. ]  result: Ite: 2 , func Eval: 4 , grad eval : 2 , Hess eval: 6\n",
            "\n",
            "\n",
            "BFGS -> initialisation : [-100 -200  -50]  result: Ite: 8 , Fonction Eval: 16 , grad eval : 16\n",
            "Newton -> initialisation : [-100 -200  -50]  result: Ite: 2 , Fonction Eval: 4 , grad eval : 2 , Hess eval: 6\n"
          ]
        }
      ]
    },
    {
      "cell_type": "markdown",
      "source": [
        "### Implementation 1.4"
      ],
      "metadata": {
        "id": "4OHQhzGW7fN1"
      }
    },
    {
      "cell_type": "code",
      "source": [
        "def BFGS_limited_ite(f, grad, H, s, v, m, w_k, c, teta):\n",
        "  \"\"\"A code to compute BFGS limited.\n",
        "    Args:\n",
        "      f (ndarray): objective function\n",
        "      grad (ndarray): gradient of objective function\n",
        "      H (ndarray): matrix H\n",
        "      v (ndarray): vector v\n",
        "      w_k (ndarray): vector weight\n",
        "      c (float): coefficient\n",
        "      teta (float): coefficient\n",
        "    Returns:\n",
        "      ndarray: updated weight\n",
        "      ndarray: H matrix (belongs to Rd,d)\n",
        "  \"\"\"\n",
        "\n",
        "  # Compute lambda_k\n",
        "  Lambda = get_lambda(H)\n",
        "\n",
        "  # Compute direction dk\n",
        "  inv = H + Lambda * np.eye(H.shape[0])\n",
        "  d = - np.dot(inv, grad)\n",
        "\n",
        "  # Compute alpha with Armijo\n",
        "  alpha = get_alpha_Armijo(teta, f, w_k, c, d)\n",
        "\n",
        "  # Compute w_k+1\n",
        "  w = w_k -  alpha*np.dot(H, grad)\n",
        "  s_k = w - w_k\n",
        "  v_k = f.grad(w) - grad\n",
        "  s.append(s_k)\n",
        "  v.append(v_k)\n",
        "\n",
        "  # Update the quasi-Newton matrix\n",
        "  H = np.eye(H.shape[0])\n",
        "  if m == 0 :\n",
        "    v_k = v_k.reshape((2,1))\n",
        "    s_k = s_k.reshape((1,2))\n",
        "    l = np.eye(grad.shape[0])- (np.matmul(v_k,s_k))/np.dot(s_k, v_k)[0,0]\n",
        "    H = l.T @ H @ l + (s_k.T @ s_k)/np.dot(s_k, v_k)[0,0]\n",
        "  \n",
        "  else : \n",
        "    for k in reversed(range(m)):\n",
        "      if(len(v)-k-1)>=0:\n",
        "        v_k = v[len(v)-k-1].reshape((2,1))\n",
        "        s_k = s[len(s)-k-1].reshape((1,2))\n",
        "        if np.dot(s_k, v_k)>0:\n",
        "          l = np.eye(grad.shape[0])- (np.matmul(v_k,s_k))/np.dot(s_k, v_k)[0,0]\n",
        "          H = l.T @ H @ l + (s_k.T @ s_k)/np.dot(s_k, v_k)[0,0]\n",
        "  return w, H\n",
        "\n",
        "\n",
        "def BFGS_limited(fonc, w_0, w_star,m, eps, c, teta):\n",
        "  w_k = w_0\n",
        "  val = fonc()\n",
        "  delta = 1 \n",
        "  D = []\n",
        "  s = []\n",
        "  v = []\n",
        "  H = np.eye(w_0.shape[0])\n",
        "  while (delta > eps):\n",
        "    w_k, H = BFGS_limited_ite(val, val.grad(w_k), H, s, v, m ,w_k ,c ,teta)\n",
        "    delta = np.linalg.norm(w_k - w_star)\n",
        "    D.append(delta)\n",
        "  return w_k, D\n",
        "\n",
        "\n",
        "w_0_1 = np.array([-1.2,1])\n",
        "\n",
        "sol , D = BFGS_limited(Rosenbrock, w_0_1, np.ones(2), 7, 0.001, 0.0001, 0.5)\n",
        "sol , D = BFGS_limited(Rosenbrock, w_0_1, np.ones(2), 5, 0.001, 0.0001, 0.5)\n",
        "print(sol)\n",
        "#sol , D = BFGS_limited(rosenbrock, w_0_1, np.ones(2), 0, 0.001, 0.0001, 0.5)\n",
        "#sol , D = BFGS_limited(rosenbrock, w_0_1, np.ones(2), 1, 0.001, 0.0001, 0.5)"
      ],
      "metadata": {
        "colab": {
          "base_uri": "https://localhost:8080/",
          "height": 130
        },
        "id": "0YyAr4SLNZzP",
        "outputId": "775377d0-ed55-4054-9e89-e86262ce8e68"
      },
      "execution_count": 1,
      "outputs": [
        {
          "output_type": "error",
          "ename": "IndentationError",
          "evalue": "ignored",
          "traceback": [
            "\u001b[0;36m  File \u001b[0;32m\"<ipython-input-1-11fef7998815>\"\u001b[0;36m, line \u001b[0;32m13\u001b[0m\n\u001b[0;31m    Lambda = get_lambda(H)\u001b[0m\n\u001b[0m                          ^\u001b[0m\n\u001b[0;31mIndentationError\u001b[0m\u001b[0;31m:\u001b[0m unindent does not match any outer indentation level\n"
          ]
        }
      ]
    },
    {
      "cell_type": "markdown",
      "source": [
        "### Question 1.6"
      ],
      "metadata": {
        "id": "9aLd6-QaRYqo"
      }
    },
    {
      "cell_type": "markdown",
      "source": [
        "L_BFGS doesn't converge for small values of m.  As the goal of L-BFGS is to improve memory cost, we can check how muc RAM each algo take."
      ],
      "metadata": {
        "id": "IFRjPYW5UaLV"
      }
    },
    {
      "cell_type": "code",
      "source": [
        "!pip install memory_profiler -q\n",
        "%load_ext memory_profiler"
      ],
      "metadata": {
        "colab": {
          "base_uri": "https://localhost:8080/"
        },
        "id": "fRoN7cVURec2",
        "outputId": "86497e7d-bab7-40b3-8712-b3e6a0fa7e46"
      },
      "execution_count": null,
      "outputs": [
        {
          "output_type": "stream",
          "name": "stdout",
          "text": [
            "The memory_profiler extension is already loaded. To reload it, use:\n",
            "  %reload_ext memory_profiler\n"
          ]
        }
      ]
    },
    {
      "cell_type": "code",
      "source": [
        "%%memit\n",
        "sol , D = BFGS_limited(Rosenbrock, w_0_1, np.ones(2), 7, 0.001, 0.0001, 0.5)"
      ],
      "metadata": {
        "colab": {
          "base_uri": "https://localhost:8080/"
        },
        "id": "6r-0OxScRylE",
        "outputId": "f4704c44-2c54-4c54-df44-fabae9692c98"
      },
      "execution_count": null,
      "outputs": [
        {
          "output_type": "stream",
          "name": "stdout",
          "text": [
            "peak memory: 307.76 MiB, increment: 0.00 MiB\n"
          ]
        }
      ]
    },
    {
      "cell_type": "code",
      "source": [
        "%%memit\n",
        "sol , D = BFGS(Rosenbrock, w_0_1, np.ones(2), 0.001, 0.0001, 0.5)"
      ],
      "metadata": {
        "colab": {
          "base_uri": "https://localhost:8080/"
        },
        "id": "4W3c4N4CR0Bw",
        "outputId": "26576e3e-1869-4f15-96b8-f4ca3d098df0"
      },
      "execution_count": null,
      "outputs": [
        {
          "output_type": "stream",
          "name": "stdout",
          "text": [
            "peak memory: 307.78 MiB, increment: 0.00 MiB\n"
          ]
        }
      ]
    },
    {
      "cell_type": "markdown",
      "source": [
        "THe peak memory is quite the same, however, we can suppose that for more complex operations, L-BFGS will be better."
      ],
      "metadata": {
        "id": "XaD5MZEEYSQe"
      }
    },
    {
      "cell_type": "markdown",
      "source": [
        "# 2. Stochastic second-order methods"
      ],
      "metadata": {
        "id": "BTt8VBuER1dA"
      }
    },
    {
      "cell_type": "markdown",
      "source": [
        "## 2.1 Subsampling Newton methods"
      ],
      "metadata": {
        "id": "MzYVRrDsbaIa"
      }
    },
    {
      "cell_type": "markdown",
      "source": [
        "### Implementation 2.1"
      ],
      "metadata": {
        "id": "uQK_9OUSXTU6"
      }
    },
    {
      "cell_type": "code",
      "source": [
        "class func_f:\n",
        "    \"\"\"\n",
        "    A class for finite sum function\n",
        "    \"\"\"\n",
        "\n",
        "    def q(self, lam, w, X, y, Index_grad):\n",
        "      v = 0\n",
        "      for i in Index_grad:\n",
        "        X[i] = np.array(X[i])\n",
        "        f_i = np.log(1+np.exp(-y[i]*np.dot(X[i], w))) + lam/2 * np.linalg.norm(w, 2)\n",
        "        v += f_i\n",
        "      return v/len(Index_grad)\n",
        "  \n",
        "    def stoch_grad_i(self, i, lam, w, X, y):\n",
        "      X[i] = np.array(X[i])\n",
        "      grad = - (y[i]/(1+np.exp(y[i] *np.dot(X[i], w)))) * X[i] + lam * w\n",
        "      return grad\n",
        "  \n",
        "    def stoch_second_i(self, i, lam, w, X, y): \n",
        "      X[i] = np.array(X[i])\n",
        "      s = X[i].reshape((1,2))\n",
        "      Hess = np.exp(y[i] *np.dot(X[i], w)) /(1+np.exp(y[i] *np.dot(X[i], w))) * np.matmul(X[i].reshape((2,1)),s)\n",
        "      return Hess\n",
        "  \n",
        "    def stoch_grad(self, lam, w, Index_grad, X,y):\n",
        "      f_i_grad = [self.stoch_grad_i(i, lam, w, X,y) for i in Index_grad]\n",
        "      return np.mean(f_i_grad, axis = 0)\n",
        "  \n",
        "    def stoch_second(self, lam, w, Index_sec, X,y):\n",
        "      f_i_sec = [self.stoch_second_i(i, lam, w ,X,y) for i in Index_sec]\n",
        "      return np.mean(f_i_sec, axis = 0)\n",
        "  "
      ],
      "metadata": {
        "id": "iHGoKwKMSID5"
      },
      "execution_count": null,
      "outputs": []
    },
    {
      "cell_type": "code",
      "source": [
        "def simu_linmodel(w, n, std=1., corr=0.5): \n",
        "    d = w.shape[0]\n",
        "    cov = toeplitz(corr ** np.arange(0, d))\n",
        "    X = multivariate_normal(np.zeros(d), cov, size=n)\n",
        "    noise = std * randn(n)\n",
        "    y = X.dot(w) + noise\n",
        "    return X, y\n",
        "\n",
        "\n",
        "w_true = np.array([10.0, 0.0])\n",
        "X,y = simu_linmodel(w_true, 20000, std=2., corr=0.5)\n",
        "y = np.sign(y)\n",
        "\n",
        "w_0_origin = np.zeros(2)\n",
        "w_0_1 = np.array([-1.2,1])\n"
      ],
      "metadata": {
        "id": "SCj_XKzjSPdS"
      },
      "execution_count": null,
      "outputs": []
    },
    {
      "cell_type": "code",
      "source": [
        "def get_alpha_Armijo_stoch(teta, f, w, c, d, lam, X,y, Index_grad):\n",
        "    '''\n",
        "    The subsampling Armijo line-search process consists in computing a stepsize α\n",
        "    '''\n",
        "    i = 1\n",
        "    alpha = teta \n",
        "    while (f.q(lam, w+alpha*d, X, y, Index_grad )> f.q(lam, w, X, y, Index_grad )+c*alpha*np.dot(d, f.stoch_grad(lam, w, Index_grad, X,y))):\n",
        "      i += 1\n",
        "      alpha = teta ** i\n",
        "    return teta ** (i-1)\n",
        "\n",
        "\n",
        "def stoch_new_ite(X, y, Index_grad, f, grad, second_grad, w_k, method, c, teta, a, lam):\n",
        "    inv = np.linalg.inv(second_grad)\n",
        "    d = np.dot(inv, grad)\n",
        "    if method == \"armijo\": \n",
        "      alpha = get_alpha_Armijo_stoch(teta, f, w_k, c, d, lam, X,y, Index_grad)\n",
        "      #print(\"alpha =\", alpha)\n",
        "    if method == \"constant\" : \n",
        "      alpha = a\n",
        "    if method == \"Stoch_lipchitz\":\n",
        "      L=0\n",
        "      for i in Index_grad : \n",
        "        L += np.matmul(X[i].T, X[i])\n",
        "      alpha = a/((np.linalg.norm(L)/len(Index_grad))+lam)\n",
        "    w = w_k - alpha * d\n",
        "    return w\n",
        "\n",
        "\n",
        "def stoch_new(fonc, w_0, w_star, eps, CardS, CardSh, X, y, method = \"constant\", teta = 0, c = 0, a=0, lam = 0):\n",
        "    w_k = w_0\n",
        "    val = fonc()\n",
        "    delta = 1\n",
        "    D = []\n",
        "    grad = 1\n",
        "    while (grad > eps):\n",
        "      Index_grad = np.random.randint(0, X.shape[0], CardS)\n",
        "      Index_sec = np.random.randint(0, X.shape[0], CardSh)\n",
        "      w_k = stoch_new_ite(X,y, Index_grad, val, val.stoch_grad(lam, w_k, Index_grad, X,y), val.stoch_second(lam, w_k, Index_sec, X,y), w_k , method, c ,teta, a, lam)\n",
        "      delta = np.linalg.norm(w_k - w_star)\n",
        "      #print(\"delta\", delta, \"grad\", np.linalg.norm(val.stoch_grad(lam, w_k, Index_grad, X,y)),w_k)\n",
        "      grad = np.linalg.norm(val.stoch_grad(lam, w_k, Index_grad, X,y))\n",
        "      D.append(grad)\n",
        "    return w_k, D"
      ],
      "metadata": {
        "id": "lzB0pBavSNwe"
      },
      "execution_count": null,
      "outputs": []
    },
    {
      "cell_type": "markdown",
      "source": [
        "### Question 2.1"
      ],
      "metadata": {
        "id": "m7TS5l-SXj95"
      }
    },
    {
      "cell_type": "code",
      "source": [
        "#sol_1 , D_1 = stoch_new(f, w_0_1, w_true, 0.01,  1, 1, X,y, method=\"constant\", a=0.01, lam=0.5) #converge pas avec un batch_size de 1\n",
        "sol_20 , D_20 = stoch_new(func_f, w_0_1, w_true, 0.1,  20, 20, X,y, method=\"constant\", a=0.01, lam=0.5)\n",
        "print(sol_20)\n",
        "D_20_val = [D_20[i] for i in np.arange(0, len(D_20), 1000)]\n",
        "sol_200 , D_200 = stoch_new(func_f, w_0_1, w_true, 0.1,  200, 200, X,y, method=\"constant\", a=0.01, lam=0.5)\n",
        "print(sol_200)\n",
        "D_200_val = [D_200[i] for i in np.arange(0, len(D_200), 100)]\n",
        "sol_2000 , D_2000 = stoch_new(func_f, w_0_1, w_true, 0.1,  2000, 2000, X,y, method=\"constant\", a=0.01, lam=0.5)\n",
        "print(sol_2000)\n",
        "D_2000_val = [D_2000[i] for i in np.arange(0, len(D_2000), 10)]\n",
        "sol_20000 , D_20000= stoch_new(func_f, w_0_1, w_true, 0.1,  20000, 20000, X,y, method=\"constant\", a=0.01, lam=0.5)\n",
        "print(sol_20000)"
      ],
      "metadata": {
        "colab": {
          "base_uri": "https://localhost:8080/"
        },
        "id": "fl-iZ77rSRDN",
        "outputId": "93933ea4-65ca-447e-ec9b-7d9f2ac3d233"
      },
      "execution_count": null,
      "outputs": [
        {
          "output_type": "stream",
          "name": "stdout",
          "text": [
            "[0.27122984 0.12232052]\n",
            "[0.3709568  0.13055131]\n",
            "[0.39266975 0.13251883]\n",
            "[0.39526659 0.13228298]\n"
          ]
        }
      ]
    },
    {
      "cell_type": "code",
      "source": [
        "# In terms of objective value (logarithmic scale)\n",
        "plt.figure(figsize=(7, 5))\n",
        "plt.semilogy(D_20_val, label=\"BS = 20\", lw=2)\n",
        "plt.semilogy(D_200_val, label=\"BS = 200\", lw=2)\n",
        "plt.semilogy(D_2000_val, label=\"BS = 2000\", lw=2)\n",
        "plt.semilogy(D_20000, label=\"BS = 20000\", lw=2)\n",
        "plt.title(\"Convergence plot\", fontsize=16)\n",
        "plt.xlabel(\"#epochs\", fontsize=14)\n",
        "plt.ylabel(\"Objective (log scale)\", fontsize=14)\n",
        "plt.legend()"
      ],
      "metadata": {
        "colab": {
          "base_uri": "https://localhost:8080/",
          "height": 373
        },
        "id": "Tx1-P9XVSSgL",
        "outputId": "02d27651-53f9-442a-a4dc-5847e6f33107"
      },
      "execution_count": null,
      "outputs": [
        {
          "output_type": "execute_result",
          "data": {
            "text/plain": [
              "<matplotlib.legend.Legend at 0x7f8c0aadb190>"
            ]
          },
          "metadata": {},
          "execution_count": 478
        },
        {
          "output_type": "display_data",
          "data": {
            "image/png": "[encoded data removed]",
            "text/plain": [
              "<Figure size 504x360 with 1 Axes>"
            ]
          },
          "metadata": {
            "needs_background": "light"
          }
        }
      ]
    },
    {
      "cell_type": "markdown",
      "source": [
        "### Question 2.2   Different stepsize choices\n",
        "\n",
        "Fix sample sizes for the gradient and Hessian. We consider two possible stepsize\n",
        "choices."
      ],
      "metadata": {
        "id": "iqb1FdKoYeFn"
      }
    },
    {
      "cell_type": "code",
      "source": [
        "#batch_size = 200 \n",
        "L = np.linalg.norm(np.matmul(X.T, X))/X.shape[0] + 0.5\n",
        "sol , D = stoch_new(func_f, w_0_1, w_true, 0.1,  200, 200, X,y, method=\"constant\", a=0.01/L, lam=0.5)\n",
        "sol2 , D2 = stoch_new(func_f, w_0_1, w_true, 0.1,  200, 200, X,y, method=\"Stoch_lipchitz\", a=0.01, lam=0.5)\n",
        "sol3 , D3 = stoch_new(func_f, w_0_1, w_true, 0.1,  200, 200, X,y, method=\"constant\", a=0.05/L, lam=0.5)\n",
        "sol4 , D4 = stoch_new(func_f, w_0_1, w_true, 0.1,  200, 200, X,y, method=\"Stoch_lipchitz\", a=0.05, lam=0.5)\n",
        "sol5 , D5 = stoch_new(func_f, w_0_1, w_true, 0.1,  200, 200, X,y, method=\"constant\", a=0.1/L, lam=0.5)\n",
        "sol6 , D6 = stoch_new(func_f, w_0_1, w_true, 0.1,  200, 200, X,y, method=\"Stoch_lipchitz\", a=0.1, lam=0.5)"
      ],
      "metadata": {
        "id": "_rXJldUJSVi5"
      },
      "execution_count": null,
      "outputs": []
    },
    {
      "cell_type": "code",
      "source": [
        "plt.figure(figsize=(7, 5))\n",
        "plt.semilogy(D, label=\"alpha = 0.01/L\", lw=2, linestyle='dashdot')\n",
        "plt.semilogy(D2, label=\"alpha = 0.01/L_Sk\", lw=2)\n",
        "plt.semilogy(D3, label=\"alpha = 0.05/L\", lw=2, linestyle='dashdot')\n",
        "plt.semilogy(D4, label=\"alpha = 0.05/L_Sk\", lw=2)\n",
        "plt.semilogy(D5, label=\"alpha = 0.1/L\", lw=2, linestyle='dashdot')\n",
        "plt.semilogy(D6, label=\"alpha = 0.1/L_Sk\", lw=2)\n",
        "plt.title(\"Convergence plot\", fontsize=16)\n",
        "plt.xlabel(\"#epochs\", fontsize=14)\n",
        "plt.ylabel(\"Objective (log scale)\", fontsize=14)\n",
        "plt.legend()"
      ],
      "metadata": {
        "colab": {
          "base_uri": "https://localhost:8080/",
          "height": 373
        },
        "id": "4iD93fVnSW3l",
        "outputId": "11c328c8-ff89-4ea6-9a7c-d5b0f83763c5"
      },
      "execution_count": null,
      "outputs": [
        {
          "output_type": "execute_result",
          "data": {
            "text/plain": [
              "<matplotlib.legend.Legend at 0x7f8c0ac12150>"
            ]
          },
          "metadata": {},
          "execution_count": 329
        },
        {
          "output_type": "display_data",
          "data": {
            "image/png": "[encoded data removed]",
            "text/plain": [
              "<Figure size 504x360 with 1 Axes>"
            ]
          },
          "metadata": {
            "needs_background": "light"
          }
        }
      ]
    },
    {
      "cell_type": "markdown",
      "source": [
        "## 2.2 Stochastic quasi-Newton methods"
      ],
      "metadata": {
        "id": "B126YRHHBV7Y"
      }
    },
    {
      "cell_type": "markdown",
      "source": [
        "### Implementation 2.2"
      ],
      "metadata": {
        "id": "-obX2JXnXx2R"
      }
    },
    {
      "cell_type": "code",
      "source": [
        "def BFGS_ite_stoch(f, grad, H, w_k, c, teta, lam, X,y, Index_grad):\n",
        "\n",
        "    s = np.dot(H, grad)\n",
        "    s = s.reshape((s.shape[0],))\n",
        "\n",
        "    alpha = get_alpha_Armijo_stoch(teta, f, w_k, c, -s, lam, X,y, Index_grad)\n",
        "\n",
        "    w = w_k -  alpha*s\n",
        "    s_k = w - w_k\n",
        "    v_k = f.stoch_grad(lam, w, Index_grad, X,y) - grad\n",
        "    \n",
        "    if np.dot(s_k, v_k)>0:\n",
        "      v_k = v_k.reshape((w.shape[0],1))\n",
        "      s_k = s_k.reshape((1,w.shape[0]))\n",
        "      l = np.eye(grad.shape[0])- (np.matmul(v_k,s_k))/np.dot(s_k, v_k)[0,0]\n",
        "      H = l.T @ H @ l + (s_k.T @ s_k)/np.dot(s_k, v_k)[0,0]\n",
        "    return w, H\n",
        "\n",
        "\n",
        "def BFGS_stoch(fonc, w_0, w_star, eps, CardS, X,y, c, teta, lam):\n",
        "    \n",
        "    w_k = w_0\n",
        "    val = fonc()\n",
        "    grad = 1  \n",
        "    D = []\n",
        "    H = np.eye(w_0.shape[0])\n",
        "    while (grad > eps):\n",
        "      Index_grad = np.random.randint(0, len(y), CardS)\n",
        "      w_k, H = BFGS_ite_stoch(val, val.stoch_grad(lam, w_k, Index_grad, X,y), H ,w_k ,c ,teta, lam, X,y, Index_grad)\n",
        "      delta = np.linalg.norm(w_k - w_star)\n",
        "      grad = np.linalg.norm(val.stoch_grad(lam, w_k, Index_grad, X,y))\n",
        "      D.append(grad)\n",
        "    return w_k, D"
      ],
      "metadata": {
        "id": "J13JLYlJTnbr"
      },
      "execution_count": null,
      "outputs": []
    },
    {
      "cell_type": "markdown",
      "source": [
        "### Question 2.3"
      ],
      "metadata": {
        "id": "xSfwKSDuX6Bw"
      }
    },
    {
      "cell_type": "code",
      "source": [
        "w_true = np.array([1.0, 1.2])\n",
        "X,y = simu_linmodel(w_true, 2000, std=1., corr=0.5)\n",
        "y = np.sign(y)\n",
        "\n",
        "w_0_origin = np.zeros(2)\n",
        "w_0_1 = np.array([-1.2,1])\n",
        "w_0_2 = np.array([0, 1/200 + 10e-12])\n"
      ],
      "metadata": {
        "id": "ivpsIe5fTo77"
      },
      "execution_count": null,
      "outputs": []
    },
    {
      "cell_type": "code",
      "source": [
        "sol_1 , D_1 = BFGS_stoch(func_f, w_0_1, w_true, 0.1,  1, X,y, c = 0.001, teta = 0.5, lam=0.1) \n",
        "sol_20 , D_20 = BFGS_stoch(func_f, w_0_1, w_true, 0.1, 50, X,y, c = 0.001, teta = 0.5, lam=0.1)\n",
        "D_20_val = [D_20[i] for i in np.arange(0, len(D_20), 1000)]\n",
        "sol_200 , D_200 = BFGS_stoch(func_f, w_0_1, w_true, 0.1,  500, X,y, c = 0.001, teta = 0.5, lam=0.1)\n",
        "D_200_val = [D_200[i] for i in np.arange(0, len(D_200), 100)]\n",
        "sol_2000 , D_2000 = BFGS_stoch(func_f, w_0_1, w_true, 0.1,  5000, X,y, c = 0.001, teta = 0.5, lam=0.1)\n",
        "D_2000_val = [D_2000[i] for i in np.arange(0, len(D_2000), 10)]\n",
        "sol_20000 , D_20000= BFGS_stoch(func_f, w_0_1, w_true, 0.1, 20000, X,y, c = 0.001, teta = 0.5, lam=0.1)"
      ],
      "metadata": {
        "id": "qlNJFQyKTqNt"
      },
      "execution_count": null,
      "outputs": []
    },
    {
      "cell_type": "markdown",
      "source": [
        "It doesn't converge with a batch of 1."
      ],
      "metadata": {
        "id": "NOY5rXhICCpj"
      }
    },
    {
      "cell_type": "markdown",
      "source": [
        "# Binary classification on real world data"
      ],
      "metadata": {
        "id": "KIQGd_HZBgIH"
      }
    },
    {
      "cell_type": "markdown",
      "source": [
        "## 3.1 Dataset"
      ],
      "metadata": {
        "id": "aHC330f-axnx"
      }
    },
    {
      "cell_type": "code",
      "source": [
        "from sklearn.datasets import load_svmlight_file\n"
      ],
      "metadata": {
        "id": "8FQq11qWXBPJ"
      },
      "execution_count": null,
      "outputs": []
    },
    {
      "cell_type": "code",
      "source": [
        "!wget -c https://www.csie.ntu.edu.tw/~cjlin/libsvmtools/datasets/binary/a9a"
      ],
      "metadata": {
        "colab": {
          "base_uri": "https://localhost:8080/"
        },
        "id": "M0s6wuETDMht",
        "outputId": "5c1fc334-86f1-4736-befd-ee34ee50f44c"
      },
      "execution_count": null,
      "outputs": [
        {
          "output_type": "stream",
          "name": "stdout",
          "text": [
            "--2022-02-27 23:00:56--  https://www.csie.ntu.edu.tw/~cjlin/libsvmtools/datasets/binary/a9a\n",
            "Resolving www.csie.ntu.edu.tw (www.csie.ntu.edu.tw)... 140.112.30.26\n",
            "Connecting to www.csie.ntu.edu.tw (www.csie.ntu.edu.tw)|140.112.30.26|:443... connected.\n",
            "HTTP request sent, awaiting response... 416 Requested Range Not Satisfiable\n",
            "\n",
            "    The file is already fully retrieved; nothing to do.\n",
            "\n"
          ]
        }
      ]
    },
    {
      "cell_type": "code",
      "source": [
        "X, y = load_svmlight_file(\"./a9a\")\n",
        "X = X.A\n",
        "X.shape"
      ],
      "metadata": {
        "colab": {
          "base_uri": "https://localhost:8080/"
        },
        "id": "WXJoK9rfDLd1",
        "outputId": "92f5262b-f345-48a6-f0c8-9f0eb9932618"
      },
      "execution_count": null,
      "outputs": [
        {
          "output_type": "execute_result",
          "data": {
            "text/plain": [
              "(32561, 123)"
            ]
          },
          "metadata": {},
          "execution_count": 492
        }
      ]
    },
    {
      "cell_type": "markdown",
      "source": [
        "### 3.2 Optimization problem"
      ],
      "metadata": {
        "id": "odtdwgVKa4eS"
      }
    },
    {
      "cell_type": "code",
      "source": [
        "def gi(w, y_point, x_point):\n",
        "    a = y_point -  1 / (1+np.exp(- x_point.T @ w)).squeeze()\n",
        "    print(a, type(a))\n",
        "    return a**2\n",
        "\n",
        "def grad_gi(w, x_point, y_point):\n",
        "    num =  -2*np.exp(x_point.T @ w)*( np.exp(x_point.T @ w)*(y_point - 1) + y_point)\n",
        "    den = (1 + np.exp(x_point.T @ w))**3\n",
        "    return np.divide( num, den )*x_point\n",
        "\n",
        "def grad2_gi(w, x_point, y_point):\n",
        "    num = 2*np.exp(x_point.T @ w)*(np.exp(2*x_point.T @ w) * (y_point - 1) + 2*np.exp(x_point.T @ w) - y_point)\n",
        "    den = (1 + np.exp(x_point.T @ w))**4\n",
        "    print(\"num shape\", num.shape)\n",
        "    print(\"den shape\", den.shape)\n",
        "    return np.divide(num, den)*(x_point.reshape(x_point.shape[0], 1) @ x_point.reshape(x_point.shape[0], 1).T)"
      ],
      "metadata": {
        "id": "4IUaQtXNDTXl"
      },
      "execution_count": null,
      "outputs": []
    },
    {
      "cell_type": "code",
      "source": [
        "ws = stoch_new(f, np.zeros(123), w_true, 0.1,  200, 200, X,y, method=\"Stoch_lipchitz\", a=0.01, lam=0.5)\n",
        "(np.ones((123,1)), gi, grad_gi, grad2_gi, X, y, 5, 5, 5)"
      ],
      "metadata": {
        "colab": {
          "base_uri": "https://localhost:8080/",
          "height": 363
        },
        "id": "8_I2vVu4DWMW",
        "outputId": "4548323b-9c9b-4a34-eabd-a109e6acaef5"
      },
      "execution_count": null,
      "outputs": [
        {
          "output_type": "error",
          "ename": "ValueError",
          "evalue": "ignored",
          "traceback": [
            "\u001b[0;31m---------------------------------------------------------------------------\u001b[0m",
            "\u001b[0;31mValueError\u001b[0m                                Traceback (most recent call last)",
            "\u001b[0;32m<ipython-input-494-f0be43075aa0>\u001b[0m in \u001b[0;36m<module>\u001b[0;34m()\u001b[0m\n\u001b[0;32m----> 1\u001b[0;31m \u001b[0mws\u001b[0m \u001b[0;34m=\u001b[0m \u001b[0mstoch_new\u001b[0m\u001b[0;34m(\u001b[0m\u001b[0mf\u001b[0m\u001b[0;34m,\u001b[0m \u001b[0mnp\u001b[0m\u001b[0;34m.\u001b[0m\u001b[0mzeros\u001b[0m\u001b[0;34m(\u001b[0m\u001b[0;36m123\u001b[0m\u001b[0;34m)\u001b[0m\u001b[0;34m,\u001b[0m \u001b[0mw_true\u001b[0m\u001b[0;34m,\u001b[0m \u001b[0;36m0.1\u001b[0m\u001b[0;34m,\u001b[0m  \u001b[0;36m200\u001b[0m\u001b[0;34m,\u001b[0m \u001b[0;36m200\u001b[0m\u001b[0;34m,\u001b[0m \u001b[0mX\u001b[0m\u001b[0;34m,\u001b[0m\u001b[0my\u001b[0m\u001b[0;34m,\u001b[0m \u001b[0mmethod\u001b[0m\u001b[0;34m=\u001b[0m\u001b[0;34m\"Stoch_lipchitz\"\u001b[0m\u001b[0;34m,\u001b[0m \u001b[0ma\u001b[0m\u001b[0;34m=\u001b[0m\u001b[0;36m0.01\u001b[0m\u001b[0;34m,\u001b[0m \u001b[0mlam\u001b[0m\u001b[0;34m=\u001b[0m\u001b[0;36m0.5\u001b[0m\u001b[0;34m)\u001b[0m\u001b[0;34m\u001b[0m\u001b[0;34m\u001b[0m\u001b[0m\n\u001b[0m\u001b[1;32m      2\u001b[0m \u001b[0;34m(\u001b[0m\u001b[0mnp\u001b[0m\u001b[0;34m.\u001b[0m\u001b[0mones\u001b[0m\u001b[0;34m(\u001b[0m\u001b[0;34m(\u001b[0m\u001b[0;36m123\u001b[0m\u001b[0;34m,\u001b[0m\u001b[0;36m1\u001b[0m\u001b[0;34m)\u001b[0m\u001b[0;34m)\u001b[0m\u001b[0;34m,\u001b[0m \u001b[0mgi\u001b[0m\u001b[0;34m,\u001b[0m \u001b[0mgrad_gi\u001b[0m\u001b[0;34m,\u001b[0m \u001b[0mgrad2_gi\u001b[0m\u001b[0;34m,\u001b[0m \u001b[0mX\u001b[0m\u001b[0;34m,\u001b[0m \u001b[0my\u001b[0m\u001b[0;34m,\u001b[0m \u001b[0;36m5\u001b[0m\u001b[0;34m,\u001b[0m \u001b[0;36m5\u001b[0m\u001b[0;34m,\u001b[0m \u001b[0;36m5\u001b[0m\u001b[0;34m)\u001b[0m\u001b[0;34m\u001b[0m\u001b[0;34m\u001b[0m\u001b[0m\n",
            "\u001b[0;32m<ipython-input-476-fc84456c4e34>\u001b[0m in \u001b[0;36mstoch_new\u001b[0;34m(fonc, w_0, w_star, eps, CardS, CardSh, X, y, method, teta, c, a, lam)\u001b[0m\n\u001b[1;32m     34\u001b[0m     \u001b[0mIndex_grad\u001b[0m \u001b[0;34m=\u001b[0m \u001b[0mnp\u001b[0m\u001b[0;34m.\u001b[0m\u001b[0mrandom\u001b[0m\u001b[0;34m.\u001b[0m\u001b[0mrandint\u001b[0m\u001b[0;34m(\u001b[0m\u001b[0;36m0\u001b[0m\u001b[0;34m,\u001b[0m \u001b[0mX\u001b[0m\u001b[0;34m.\u001b[0m\u001b[0mshape\u001b[0m\u001b[0;34m[\u001b[0m\u001b[0;36m0\u001b[0m\u001b[0;34m]\u001b[0m\u001b[0;34m,\u001b[0m \u001b[0mCardS\u001b[0m\u001b[0;34m)\u001b[0m\u001b[0;34m\u001b[0m\u001b[0;34m\u001b[0m\u001b[0m\n\u001b[1;32m     35\u001b[0m     \u001b[0mIndex_sec\u001b[0m \u001b[0;34m=\u001b[0m \u001b[0mnp\u001b[0m\u001b[0;34m.\u001b[0m\u001b[0mrandom\u001b[0m\u001b[0;34m.\u001b[0m\u001b[0mrandint\u001b[0m\u001b[0;34m(\u001b[0m\u001b[0;36m0\u001b[0m\u001b[0;34m,\u001b[0m \u001b[0mX\u001b[0m\u001b[0;34m.\u001b[0m\u001b[0mshape\u001b[0m\u001b[0;34m[\u001b[0m\u001b[0;36m0\u001b[0m\u001b[0;34m]\u001b[0m\u001b[0;34m,\u001b[0m \u001b[0mCardSh\u001b[0m\u001b[0;34m)\u001b[0m\u001b[0;34m\u001b[0m\u001b[0;34m\u001b[0m\u001b[0m\n\u001b[0;32m---> 36\u001b[0;31m     \u001b[0mw_k\u001b[0m \u001b[0;34m=\u001b[0m \u001b[0mstoch_new_ite\u001b[0m\u001b[0;34m(\u001b[0m\u001b[0mX\u001b[0m\u001b[0;34m,\u001b[0m\u001b[0my\u001b[0m\u001b[0;34m,\u001b[0m \u001b[0mIndex_grad\u001b[0m\u001b[0;34m,\u001b[0m \u001b[0mval\u001b[0m\u001b[0;34m,\u001b[0m \u001b[0mval\u001b[0m\u001b[0;34m.\u001b[0m\u001b[0mstoch_grad\u001b[0m\u001b[0;34m(\u001b[0m\u001b[0mlam\u001b[0m\u001b[0;34m,\u001b[0m \u001b[0mw_k\u001b[0m\u001b[0;34m,\u001b[0m \u001b[0mIndex_grad\u001b[0m\u001b[0;34m,\u001b[0m \u001b[0mX\u001b[0m\u001b[0;34m,\u001b[0m\u001b[0my\u001b[0m\u001b[0;34m)\u001b[0m\u001b[0;34m,\u001b[0m \u001b[0mval\u001b[0m\u001b[0;34m.\u001b[0m\u001b[0mstoch_second\u001b[0m\u001b[0;34m(\u001b[0m\u001b[0mlam\u001b[0m\u001b[0;34m,\u001b[0m \u001b[0mw_k\u001b[0m\u001b[0;34m,\u001b[0m \u001b[0mIndex_sec\u001b[0m\u001b[0;34m,\u001b[0m \u001b[0mX\u001b[0m\u001b[0;34m,\u001b[0m\u001b[0my\u001b[0m\u001b[0;34m)\u001b[0m\u001b[0;34m,\u001b[0m \u001b[0mw_k\u001b[0m \u001b[0;34m,\u001b[0m \u001b[0mmethod\u001b[0m\u001b[0;34m,\u001b[0m \u001b[0mc\u001b[0m \u001b[0;34m,\u001b[0m\u001b[0mteta\u001b[0m\u001b[0;34m,\u001b[0m \u001b[0ma\u001b[0m\u001b[0;34m,\u001b[0m \u001b[0mlam\u001b[0m\u001b[0;34m)\u001b[0m\u001b[0;34m\u001b[0m\u001b[0;34m\u001b[0m\u001b[0m\n\u001b[0m\u001b[1;32m     37\u001b[0m     \u001b[0mdelta\u001b[0m \u001b[0;34m=\u001b[0m \u001b[0mnp\u001b[0m\u001b[0;34m.\u001b[0m\u001b[0mlinalg\u001b[0m\u001b[0;34m.\u001b[0m\u001b[0mnorm\u001b[0m\u001b[0;34m(\u001b[0m\u001b[0mw_k\u001b[0m \u001b[0;34m-\u001b[0m \u001b[0mw_star\u001b[0m\u001b[0;34m)\u001b[0m\u001b[0;34m\u001b[0m\u001b[0;34m\u001b[0m\u001b[0m\n\u001b[1;32m     38\u001b[0m     \u001b[0;31m#print(\"delta\", delta, \"grad\", np.linalg.norm(val.stoch_grad(lam, w_k, Index_grad, X,y)),w_k)\u001b[0m\u001b[0;34m\u001b[0m\u001b[0;34m\u001b[0m\u001b[0;34m\u001b[0m\u001b[0m\n",
            "\u001b[0;32m<ipython-input-469-89fcf7cce47a>\u001b[0m in \u001b[0;36mstoch_second\u001b[0;34m(self, lam, w, Index_sec, X, y)\u001b[0m\n\u001b[1;32m     24\u001b[0m \u001b[0;34m\u001b[0m\u001b[0m\n\u001b[1;32m     25\u001b[0m   \u001b[0;32mdef\u001b[0m \u001b[0mstoch_second\u001b[0m\u001b[0;34m(\u001b[0m\u001b[0mself\u001b[0m\u001b[0;34m,\u001b[0m \u001b[0mlam\u001b[0m\u001b[0;34m,\u001b[0m \u001b[0mw\u001b[0m\u001b[0;34m,\u001b[0m \u001b[0mIndex_sec\u001b[0m\u001b[0;34m,\u001b[0m \u001b[0mX\u001b[0m\u001b[0;34m,\u001b[0m\u001b[0my\u001b[0m\u001b[0;34m)\u001b[0m\u001b[0;34m:\u001b[0m\u001b[0;34m\u001b[0m\u001b[0;34m\u001b[0m\u001b[0m\n\u001b[0;32m---> 26\u001b[0;31m     \u001b[0mf_i_sec\u001b[0m \u001b[0;34m=\u001b[0m \u001b[0;34m[\u001b[0m\u001b[0mself\u001b[0m\u001b[0;34m.\u001b[0m\u001b[0mstoch_second_i\u001b[0m\u001b[0;34m(\u001b[0m\u001b[0mi\u001b[0m\u001b[0;34m,\u001b[0m \u001b[0mlam\u001b[0m\u001b[0;34m,\u001b[0m \u001b[0mw\u001b[0m \u001b[0;34m,\u001b[0m\u001b[0mX\u001b[0m\u001b[0;34m,\u001b[0m\u001b[0my\u001b[0m\u001b[0;34m)\u001b[0m \u001b[0;32mfor\u001b[0m \u001b[0mi\u001b[0m \u001b[0;32min\u001b[0m \u001b[0mIndex_sec\u001b[0m\u001b[0;34m]\u001b[0m\u001b[0;34m\u001b[0m\u001b[0;34m\u001b[0m\u001b[0m\n\u001b[0m\u001b[1;32m     27\u001b[0m     \u001b[0;32mreturn\u001b[0m \u001b[0mnp\u001b[0m\u001b[0;34m.\u001b[0m\u001b[0mmean\u001b[0m\u001b[0;34m(\u001b[0m\u001b[0mf_i_sec\u001b[0m\u001b[0;34m,\u001b[0m \u001b[0maxis\u001b[0m \u001b[0;34m=\u001b[0m \u001b[0;36m0\u001b[0m\u001b[0;34m)\u001b[0m\u001b[0;34m\u001b[0m\u001b[0;34m\u001b[0m\u001b[0m\n",
            "\u001b[0;32m<ipython-input-469-89fcf7cce47a>\u001b[0m in \u001b[0;36m<listcomp>\u001b[0;34m(.0)\u001b[0m\n\u001b[1;32m     24\u001b[0m \u001b[0;34m\u001b[0m\u001b[0m\n\u001b[1;32m     25\u001b[0m   \u001b[0;32mdef\u001b[0m \u001b[0mstoch_second\u001b[0m\u001b[0;34m(\u001b[0m\u001b[0mself\u001b[0m\u001b[0;34m,\u001b[0m \u001b[0mlam\u001b[0m\u001b[0;34m,\u001b[0m \u001b[0mw\u001b[0m\u001b[0;34m,\u001b[0m \u001b[0mIndex_sec\u001b[0m\u001b[0;34m,\u001b[0m \u001b[0mX\u001b[0m\u001b[0;34m,\u001b[0m\u001b[0my\u001b[0m\u001b[0;34m)\u001b[0m\u001b[0;34m:\u001b[0m\u001b[0;34m\u001b[0m\u001b[0;34m\u001b[0m\u001b[0m\n\u001b[0;32m---> 26\u001b[0;31m     \u001b[0mf_i_sec\u001b[0m \u001b[0;34m=\u001b[0m \u001b[0;34m[\u001b[0m\u001b[0mself\u001b[0m\u001b[0;34m.\u001b[0m\u001b[0mstoch_second_i\u001b[0m\u001b[0;34m(\u001b[0m\u001b[0mi\u001b[0m\u001b[0;34m,\u001b[0m \u001b[0mlam\u001b[0m\u001b[0;34m,\u001b[0m \u001b[0mw\u001b[0m \u001b[0;34m,\u001b[0m\u001b[0mX\u001b[0m\u001b[0;34m,\u001b[0m\u001b[0my\u001b[0m\u001b[0;34m)\u001b[0m \u001b[0;32mfor\u001b[0m \u001b[0mi\u001b[0m \u001b[0;32min\u001b[0m \u001b[0mIndex_sec\u001b[0m\u001b[0;34m]\u001b[0m\u001b[0;34m\u001b[0m\u001b[0;34m\u001b[0m\u001b[0m\n\u001b[0m\u001b[1;32m     27\u001b[0m     \u001b[0;32mreturn\u001b[0m \u001b[0mnp\u001b[0m\u001b[0;34m.\u001b[0m\u001b[0mmean\u001b[0m\u001b[0;34m(\u001b[0m\u001b[0mf_i_sec\u001b[0m\u001b[0;34m,\u001b[0m \u001b[0maxis\u001b[0m \u001b[0;34m=\u001b[0m \u001b[0;36m0\u001b[0m\u001b[0;34m)\u001b[0m\u001b[0;34m\u001b[0m\u001b[0;34m\u001b[0m\u001b[0m\n",
            "\u001b[0;32m<ipython-input-469-89fcf7cce47a>\u001b[0m in \u001b[0;36mstoch_second_i\u001b[0;34m(self, i, lam, w, X, y)\u001b[0m\n\u001b[1;32m     15\u001b[0m   \u001b[0;32mdef\u001b[0m \u001b[0mstoch_second_i\u001b[0m\u001b[0;34m(\u001b[0m\u001b[0mself\u001b[0m\u001b[0;34m,\u001b[0m \u001b[0mi\u001b[0m\u001b[0;34m,\u001b[0m \u001b[0mlam\u001b[0m\u001b[0;34m,\u001b[0m \u001b[0mw\u001b[0m\u001b[0;34m,\u001b[0m \u001b[0mX\u001b[0m\u001b[0;34m,\u001b[0m \u001b[0my\u001b[0m\u001b[0;34m)\u001b[0m\u001b[0;34m:\u001b[0m\u001b[0;34m\u001b[0m\u001b[0;34m\u001b[0m\u001b[0m\n\u001b[1;32m     16\u001b[0m     \u001b[0mX\u001b[0m\u001b[0;34m[\u001b[0m\u001b[0mi\u001b[0m\u001b[0;34m]\u001b[0m \u001b[0;34m=\u001b[0m \u001b[0mnp\u001b[0m\u001b[0;34m.\u001b[0m\u001b[0marray\u001b[0m\u001b[0;34m(\u001b[0m\u001b[0mX\u001b[0m\u001b[0;34m[\u001b[0m\u001b[0mi\u001b[0m\u001b[0;34m]\u001b[0m\u001b[0;34m)\u001b[0m\u001b[0;34m\u001b[0m\u001b[0;34m\u001b[0m\u001b[0m\n\u001b[0;32m---> 17\u001b[0;31m     \u001b[0ms\u001b[0m \u001b[0;34m=\u001b[0m \u001b[0mX\u001b[0m\u001b[0;34m[\u001b[0m\u001b[0mi\u001b[0m\u001b[0;34m]\u001b[0m\u001b[0;34m.\u001b[0m\u001b[0mreshape\u001b[0m\u001b[0;34m(\u001b[0m\u001b[0;34m(\u001b[0m\u001b[0;36m1\u001b[0m\u001b[0;34m,\u001b[0m\u001b[0;36m2\u001b[0m\u001b[0;34m)\u001b[0m\u001b[0;34m)\u001b[0m\u001b[0;34m\u001b[0m\u001b[0;34m\u001b[0m\u001b[0m\n\u001b[0m\u001b[1;32m     18\u001b[0m     \u001b[0mHess\u001b[0m \u001b[0;34m=\u001b[0m \u001b[0mnp\u001b[0m\u001b[0;34m.\u001b[0m\u001b[0mexp\u001b[0m\u001b[0;34m(\u001b[0m\u001b[0my\u001b[0m\u001b[0;34m[\u001b[0m\u001b[0mi\u001b[0m\u001b[0;34m]\u001b[0m \u001b[0;34m*\u001b[0m\u001b[0mnp\u001b[0m\u001b[0;34m.\u001b[0m\u001b[0mdot\u001b[0m\u001b[0;34m(\u001b[0m\u001b[0mX\u001b[0m\u001b[0;34m[\u001b[0m\u001b[0mi\u001b[0m\u001b[0;34m]\u001b[0m\u001b[0;34m,\u001b[0m \u001b[0mw\u001b[0m\u001b[0;34m)\u001b[0m\u001b[0;34m)\u001b[0m \u001b[0;34m/\u001b[0m\u001b[0;34m(\u001b[0m\u001b[0;36m1\u001b[0m\u001b[0;34m+\u001b[0m\u001b[0mnp\u001b[0m\u001b[0;34m.\u001b[0m\u001b[0mexp\u001b[0m\u001b[0;34m(\u001b[0m\u001b[0my\u001b[0m\u001b[0;34m[\u001b[0m\u001b[0mi\u001b[0m\u001b[0;34m]\u001b[0m \u001b[0;34m*\u001b[0m\u001b[0mnp\u001b[0m\u001b[0;34m.\u001b[0m\u001b[0mdot\u001b[0m\u001b[0;34m(\u001b[0m\u001b[0mX\u001b[0m\u001b[0;34m[\u001b[0m\u001b[0mi\u001b[0m\u001b[0;34m]\u001b[0m\u001b[0;34m,\u001b[0m \u001b[0mw\u001b[0m\u001b[0;34m)\u001b[0m\u001b[0;34m)\u001b[0m\u001b[0;34m)\u001b[0m \u001b[0;34m*\u001b[0m \u001b[0mnp\u001b[0m\u001b[0;34m.\u001b[0m\u001b[0mmatmul\u001b[0m\u001b[0;34m(\u001b[0m\u001b[0mX\u001b[0m\u001b[0;34m[\u001b[0m\u001b[0mi\u001b[0m\u001b[0;34m]\u001b[0m\u001b[0;34m.\u001b[0m\u001b[0mreshape\u001b[0m\u001b[0;34m(\u001b[0m\u001b[0;34m(\u001b[0m\u001b[0;36m2\u001b[0m\u001b[0;34m,\u001b[0m\u001b[0;36m1\u001b[0m\u001b[0;34m)\u001b[0m\u001b[0;34m)\u001b[0m\u001b[0;34m,\u001b[0m\u001b[0ms\u001b[0m\u001b[0;34m)\u001b[0m\u001b[0;34m\u001b[0m\u001b[0;34m\u001b[0m\u001b[0m\n\u001b[1;32m     19\u001b[0m     \u001b[0;32mreturn\u001b[0m \u001b[0mHess\u001b[0m\u001b[0;34m\u001b[0m\u001b[0;34m\u001b[0m\u001b[0m\n",
            "\u001b[0;31mValueError\u001b[0m: cannot reshape array of size 123 into shape (1,2)"
          ]
        }
      ]
    },
    {
      "cell_type": "markdown",
      "source": [
        "## 3.3 COmparison of the algorithm"
      ],
      "metadata": {
        "id": "dLNn5ZgXa-Em"
      }
    },
    {
      "cell_type": "code",
      "source": [
        "def subsampling_newton(w0, f, grad_f, grad2_f, X, y, card_sk, card_skh, alpha_k=\"armijo\", n_iter=10000, thresh=1e-8, verbose=True):\n",
        "    \n",
        "    ws = [w0]\n",
        "    for k in range(n_iter):\n",
        "        if verbose:\n",
        "            print(f\"Iteration {k}\")\n",
        "\n",
        "        # Choose random sampling points\n",
        "        batch = np.random.choice(np.arange(X.shape[0]), card_sk, replace=False)\n",
        "\n",
        "        # Compute subsampling derivative\n",
        "        gradient = batch_function(batch, grad_f, X, y, ws[k])\n",
        "        subsampling_gradient = (1/card_sk) * gradient\n",
        "\n",
        "\n",
        "        # Compute subsampling hessian\n",
        "        hessian = batch_function(batch, grad2_f, X, y, ws[k])\n",
        "        subsampling_hessian = (1/card_skh) * hessian\n",
        "\n",
        "        # Compute search direction dk\n",
        "        d_k = -1.* ( np.linalg.pinv(subsampling_hessian) @ subsampling_gradient )\n",
        "\n",
        "        # Compute step size alphak\n",
        "        if alpha_k == \"armijo\":\n",
        "            alpha_k = subsampling_armijo_line_search(batch, f, grad_f, X, y, ws[k], d_k)\n",
        "            print(\"alpha_k est ici\", alpha_k)\n",
        "        else:\n",
        "            alpha_k = alpha_k\n",
        "        # Compute w(k+1)\n",
        "        w_next = ws[k].squeeze() + alpha_k*d_k\n",
        "        \n",
        "        if np.linalg.norm(w_next - ws[k]) < thresh:  # Convergence test\n",
        "            if verbose:\n",
        "                print(f\"Limited-memory BFGS has converged after {k} iteration(s)\")\n",
        "            return ws\n",
        "        ws.append(w_next)\n",
        "    return ws\n"
      ],
      "metadata": {
        "id": "hWq3ygFvDbFR"
      },
      "execution_count": null,
      "outputs": []
    },
    {
      "cell_type": "code",
      "source": [
        "# Stochastic gradient implementation from TP03\n",
        "def stoch_grad(w0,problem,wtarget,stepchoice=0,step0=1, n_iter=1000,nb=1,average=0,with_replace=False,verbose=False): \n",
        "    \"\"\"\n",
        "        A code for gradient descent with various step choices.\n",
        "        \n",
        "        Inputs:\n",
        "            w0: Initial vector\n",
        "            problem: Problem structure\n",
        "                problem.fun() returns the objective function, which is assumed to be a finite sum of functions\n",
        "                problem.n returns the number of components in the finite sum\n",
        "                problem.grad_i() returns the gradient of a single component f_i\n",
        "                problem.lipgrad() returns the Lipschitz constant for the gradient\n",
        "                problem.cvxval() returns the strong convexity constant\n",
        "                problem.lambda returns the value of the regularization parameter\n",
        "            wtarget: Target minimum (unknown in practice!)\n",
        "            stepchoice: Strategy for computing the stepsize \n",
        "                0: Constant step size equal to 1/L\n",
        "                t>0: Step size decreasing in 1/(k+1)**t\n",
        "            step0: Initial steplength (only used when stepchoice is not 0)\n",
        "            n_iter: Number of iterations, used as stopping criterion\n",
        "            nb: Number of components drawn per iteration/Batch size \n",
        "                1: Classical stochastic gradient algorithm (default value)\n",
        "            average: Indicates whether the method computes the average of the iterates \n",
        "                0: No averaging (default)\n",
        "                1: With averaging\n",
        "            with_replace: Boolean indicating whether components are drawn with or without replacement\n",
        "                True: Components drawn with replacement\n",
        "                False: Components drawn without replacement (Default)\n",
        "            verbose: Boolean indicating whether information should be plot at every iteration (Default: False)\n",
        "            \n",
        "        Outputs:\n",
        "            w_output: Final iterate of the method (or average if average=1)\n",
        "            objvals: History of function values (Numpy array of length n_iter at most)\n",
        "            normits: History of distances between iterates and optimum (Numpy array of length n_iter at most)\n",
        "    \"\"\"\n",
        "    ############\n",
        "    # Initial step: Compute and plot some initial quantities\n",
        "\n",
        "    # objective history\n",
        "    objvals = []\n",
        "    \n",
        "    # iterates distance to the minimum history\n",
        "    normits = []\n",
        "    \n",
        "    # Lipschitz constant\n",
        "    L = problem.lipgrad()\n",
        "    \n",
        "    # Number of samples\n",
        "    n = problem.n\n",
        "    \n",
        "    # Initial value of current iterate  \n",
        "    w = w0.copy()\n",
        "    nw = norm(w)\n",
        "    \n",
        "    # Average (if needed)\n",
        "    if average:\n",
        "            wavg=np.zeros(len(w))\n",
        "\n",
        "    # Initialize iteration counter\n",
        "    k=0\n",
        "    \n",
        "    # Current objective\n",
        "    obj = problem.fun(w) \n",
        "    objvals.append(obj);\n",
        "    # Current distance to the optimum\n",
        "    nmin = norm(w-wtarget)\n",
        "    normits.append(nmin)\n",
        "    \n",
        "    if verbose:\n",
        "        # Plot initial quantities of interest\n",
        "        print(\"Stochastic Gradient, batch size=\",nb,\"/\",n)\n",
        "        print(' | '.join([name.center(8) for name in [\"iter\", \"fval\", \"normit\"]]))\n",
        "        print(' | '.join([(\"%d\" % k).rjust(8),(\"%.2e\" % obj).rjust(8),(\"%.2e\" % nmin).rjust(8)]))\n",
        "    \n",
        "    ################\n",
        "    # Main loop\n",
        "    while (k < n_iter and nw < 10**100):\n",
        "        # Draw the batch indices\n",
        "        ik = np.random.choice(n,nb,replace=with_replace)# Batch gradient\n",
        "        # Stochastic gradient calculation\n",
        "        sg = np.zeros(d)\n",
        "        for j in range(nb):\n",
        "            gi = problem.grad_i(ik[j],w)\n",
        "            sg = sg + gi\n",
        "        sg = (1/nb)*sg\n",
        "            \n",
        "        if stepchoice==0:\n",
        "            w[:] = w - (step0/L) * sg\n",
        "        elif stepchoice>0:\n",
        "            sk = float(step0/((k+1)**stepchoice))\n",
        "            w[:] = w - sk * sg\n",
        "        \n",
        "        nw = norm(w) #Computing the norm to measure divergence \n",
        "\n",
        "        if average:\n",
        "            # If average, compute the average of the iterates\n",
        "            wavg = k/(k+1) *wavg + w/(k+1) \n",
        "            nmin = norm(wavg-wtarget)\n",
        "            obj = problem.fun(wavg)\n",
        "        else:\n",
        "            obj = problem.fun(w)\n",
        "            nmin = norm(w-wtarget)\n",
        "        \n",
        "       \n",
        "        \n",
        "        k += 1\n",
        "        # Plot quantities of interest at the end of every epoch only\n",
        "        if (k*nb) % n == 0:\n",
        "            objvals.append(obj)\n",
        "            normits.append(nmin)\n",
        "            if verbose:\n",
        "                print(' | '.join([(\"%d\" % k).rjust(8),(\"%.2e\" % obj).rjust(8),(\"%.2e\" % nmin).rjust(8)]))       \n",
        "    \n",
        "    # End of main loop\n",
        "    #################\n",
        "    \n",
        "    # Plot quantities of interest for the last iterate (if needed)\n",
        "    if (k*nb) % n > 0:\n",
        "        objvals.append(obj)\n",
        "        normits.append(nmin)\n",
        "        if verbose:\n",
        "            print(' | '.join([(\"%d\" % k).rjust(8),(\"%.2e\" % obj).rjust(8),(\"%.2e\" % nmin).rjust(8)]))              \n",
        "    \n",
        "    # Outputs\n",
        "    w_output = w.copy()\n",
        "    \n",
        "    return w_output, np.array(objvals), np.array(normits)"
      ],
      "metadata": {
        "id": "nMcHuqlHDes-"
      },
      "execution_count": null,
      "outputs": []
    },
    {
      "cell_type": "markdown",
      "source": [
        ""
      ],
      "metadata": {
        "id": "GTolQ_b6RxBy"
      }
    }
  ]
}